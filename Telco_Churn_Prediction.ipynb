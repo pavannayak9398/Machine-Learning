{
  "nbformat": 4,
  "nbformat_minor": 0,
  "metadata": {
    "colab": {
      "provenance": [],
      "mount_file_id": "1ygJq1t-NQcbGTVStdD5g9nk6QV6yey4T",
      "authorship_tag": "ABX9TyNRnorEx9jtZ++5TKAzRe5I",
      "include_colab_link": true
    },
    "kernelspec": {
      "name": "python3",
      "display_name": "Python 3"
    },
    "language_info": {
      "name": "python"
    }
  },
  "cells": [
    {
      "cell_type": "markdown",
      "metadata": {
        "id": "view-in-github",
        "colab_type": "text"
      },
      "source": [
        "<a href=\"https://colab.research.google.com/github/pavannayak9398/Machine-Learning/blob/main/Telco_Churn_Prediction.ipynb\" target=\"_parent\"><img src=\"https://colab.research.google.com/assets/colab-badge.svg\" alt=\"Open In Colab\"/></a>"
      ]
    },
    {
      "cell_type": "markdown",
      "source": [
        "# **Telco Customer Churn Prediction**"
      ],
      "metadata": {
        "id": "yv7OUK_q92xi"
      }
    },
    {
      "cell_type": "markdown",
      "source": [
        "![image.png](data:image/png;base64,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)"
      ],
      "metadata": {
        "id": "BAOc4PYm90Nw"
      }
    },
    {
      "cell_type": "code",
      "source": [
        "import pandas as pd\n",
        "import numpy as np\n",
        "import matplotlib.pyplot as plt\n",
        "import seaborn as sns"
      ],
      "metadata": {
        "id": "aB_-Pb6r906b"
      },
      "execution_count": null,
      "outputs": []
    },
    {
      "cell_type": "markdown",
      "source": [
        "**1. Load the Dataset**"
      ],
      "metadata": {
        "id": "kCpkqme6KhwL"
      }
    },
    {
      "cell_type": "code",
      "source": [
        "df=pd.read_csv(\"/content/drive/MyDrive/FSDS @Kodi Senapati/Colab files/Datasets/Telco-Customer-Churn.csv\")"
      ],
      "metadata": {
        "id": "yMP9YFHq-ecQ"
      },
      "execution_count": null,
      "outputs": []
    },
    {
      "cell_type": "code",
      "source": [
        "print(df.columns)\n",
        "print(len(df.columns))"
      ],
      "metadata": {
        "colab": {
          "base_uri": "https://localhost:8080/"
        },
        "id": "BtR11qq9_nhJ",
        "outputId": "869a4d28-5b8d-4c51-e8ff-a7fd23991ee1"
      },
      "execution_count": null,
      "outputs": [
        {
          "output_type": "stream",
          "name": "stdout",
          "text": [
            "Index(['customerID', 'gender', 'SeniorCitizen', 'Partner', 'Dependents',\n",
            "       'tenure', 'PhoneService', 'MultipleLines', 'InternetService',\n",
            "       'OnlineSecurity', 'OnlineBackup', 'DeviceProtection', 'TechSupport',\n",
            "       'StreamingTV', 'StreamingMovies', 'Contract', 'PaperlessBilling',\n",
            "       'PaymentMethod', 'MonthlyCharges', 'TotalCharges', 'Churn'],\n",
            "      dtype='object')\n",
            "21\n"
          ]
        }
      ]
    },
    {
      "cell_type": "markdown",
      "source": [
        "**2. Find Irrelevant Columns & Drop**"
      ],
      "metadata": {
        "id": "VaR6P1FfKpeM"
      }
    },
    {
      "cell_type": "code",
      "source": [
        "# Find the values with single values and remove\n",
        "\n",
        "one=[i for i in df.columns if df[i].nunique()==1]\n",
        "\n",
        "print(one)"
      ],
      "metadata": {
        "colab": {
          "base_uri": "https://localhost:8080/"
        },
        "id": "kogY3aem9rr5",
        "outputId": "3ccee9fc-d859-4adf-c2da-c5dd28e5e5b1"
      },
      "execution_count": null,
      "outputs": [
        {
          "output_type": "stream",
          "name": "stdout",
          "text": [
            "[]\n"
          ]
        }
      ]
    },
    {
      "cell_type": "code",
      "source": [
        "# Drop \"customerID\" as it is of no use\n",
        "\n",
        "df=df.drop(['customerID'], axis=1)\n",
        "print(df.columns)\n",
        "print(len(df.columns))"
      ],
      "metadata": {
        "colab": {
          "base_uri": "https://localhost:8080/"
        },
        "id": "jybMFhLVTCoM",
        "outputId": "ff4afeda-f747-49a7-ea01-7631ca185b83"
      },
      "execution_count": null,
      "outputs": [
        {
          "output_type": "stream",
          "name": "stdout",
          "text": [
            "Index(['gender', 'SeniorCitizen', 'Partner', 'Dependents', 'tenure',\n",
            "       'PhoneService', 'MultipleLines', 'InternetService', 'OnlineSecurity',\n",
            "       'OnlineBackup', 'DeviceProtection', 'TechSupport', 'StreamingTV',\n",
            "       'StreamingMovies', 'Contract', 'PaperlessBilling', 'PaymentMethod',\n",
            "       'MonthlyCharges', 'TotalCharges', 'Churn'],\n",
            "      dtype='object')\n",
            "20\n"
          ]
        }
      ]
    },
    {
      "cell_type": "code",
      "source": [
        "df.info()"
      ],
      "metadata": {
        "colab": {
          "base_uri": "https://localhost:8080/"
        },
        "id": "1WlCBAvf_p38",
        "outputId": "6fd06fc0-e71a-4020-9378-c35b67ca1f13"
      },
      "execution_count": null,
      "outputs": [
        {
          "output_type": "stream",
          "name": "stdout",
          "text": [
            "<class 'pandas.core.frame.DataFrame'>\n",
            "RangeIndex: 7043 entries, 0 to 7042\n",
            "Data columns (total 20 columns):\n",
            " #   Column            Non-Null Count  Dtype  \n",
            "---  ------            --------------  -----  \n",
            " 0   gender            7043 non-null   object \n",
            " 1   SeniorCitizen     7043 non-null   int64  \n",
            " 2   Partner           7043 non-null   object \n",
            " 3   Dependents        7043 non-null   object \n",
            " 4   tenure            7043 non-null   int64  \n",
            " 5   PhoneService      7043 non-null   object \n",
            " 6   MultipleLines     7043 non-null   object \n",
            " 7   InternetService   7043 non-null   object \n",
            " 8   OnlineSecurity    7043 non-null   object \n",
            " 9   OnlineBackup      7043 non-null   object \n",
            " 10  DeviceProtection  7043 non-null   object \n",
            " 11  TechSupport       7043 non-null   object \n",
            " 12  StreamingTV       7043 non-null   object \n",
            " 13  StreamingMovies   7043 non-null   object \n",
            " 14  Contract          7043 non-null   object \n",
            " 15  PaperlessBilling  7043 non-null   object \n",
            " 16  PaymentMethod     7043 non-null   object \n",
            " 17  MonthlyCharges    7043 non-null   float64\n",
            " 18  TotalCharges      7043 non-null   object \n",
            " 19  Churn             7043 non-null   object \n",
            "dtypes: float64(1), int64(2), object(17)\n",
            "memory usage: 1.1+ MB\n"
          ]
        }
      ]
    },
    {
      "cell_type": "markdown",
      "source": [
        "**3. Convert categorical columns to Numeric type if applicable**"
      ],
      "metadata": {
        "id": "rfW_eXHbK2xS"
      }
    },
    {
      "cell_type": "code",
      "source": [
        "# TotalCharges is of object type convert to numeric\n",
        "\n",
        "\n",
        "df['TotalCharges'] = pd.to_numeric(df['TotalCharges'], errors='coerce')\n",
        "df['TotalCharges'].isnull().sum()\n"
      ],
      "metadata": {
        "colab": {
          "base_uri": "https://localhost:8080/"
        },
        "id": "4wEoQrtP_r-o",
        "outputId": "6db04b89-83e8-46cb-b943-99d016995756"
      },
      "execution_count": null,
      "outputs": [
        {
          "output_type": "execute_result",
          "data": {
            "text/plain": [
              "11"
            ]
          },
          "metadata": {},
          "execution_count": 7
        }
      ]
    },
    {
      "cell_type": "code",
      "source": [
        "#df[col] = df[col].method(value)\n",
        "\n",
        "df['TotalCharges']=df['TotalCharges'].fillna(df['TotalCharges'].median())\n",
        "print(df['TotalCharges'].isnull().sum())\n",
        "print(df['TotalCharges'].info())"
      ],
      "metadata": {
        "colab": {
          "base_uri": "https://localhost:8080/"
        },
        "id": "2n4knpbeUUPI",
        "outputId": "5da58cd1-2c6b-49bf-f4e8-7139478470a5"
      },
      "execution_count": null,
      "outputs": [
        {
          "output_type": "stream",
          "name": "stdout",
          "text": [
            "0\n",
            "<class 'pandas.core.series.Series'>\n",
            "RangeIndex: 7043 entries, 0 to 7042\n",
            "Series name: TotalCharges\n",
            "Non-Null Count  Dtype  \n",
            "--------------  -----  \n",
            "7043 non-null   float64\n",
            "dtypes: float64(1)\n",
            "memory usage: 55.2 KB\n",
            "None\n"
          ]
        }
      ]
    },
    {
      "cell_type": "markdown",
      "source": [
        "**4. Check for NULL Values**"
      ],
      "metadata": {
        "id": "6lo3A9YwLMTG"
      }
    },
    {
      "cell_type": "code",
      "source": [
        "# Check for anyother Null values\n",
        "\n",
        "\n",
        "df.isnull().sum()"
      ],
      "metadata": {
        "colab": {
          "base_uri": "https://localhost:8080/",
          "height": 711
        },
        "id": "wKWxzaz0LDR6",
        "outputId": "db791d05-2346-4d50-a704-35ff06eefb53"
      },
      "execution_count": null,
      "outputs": [
        {
          "output_type": "execute_result",
          "data": {
            "text/plain": [
              "gender              0\n",
              "SeniorCitizen       0\n",
              "Partner             0\n",
              "Dependents          0\n",
              "tenure              0\n",
              "PhoneService        0\n",
              "MultipleLines       0\n",
              "InternetService     0\n",
              "OnlineSecurity      0\n",
              "OnlineBackup        0\n",
              "DeviceProtection    0\n",
              "TechSupport         0\n",
              "StreamingTV         0\n",
              "StreamingMovies     0\n",
              "Contract            0\n",
              "PaperlessBilling    0\n",
              "PaymentMethod       0\n",
              "MonthlyCharges      0\n",
              "TotalCharges        0\n",
              "Churn               0\n",
              "dtype: int64"
            ],
            "text/html": [
              "<div>\n",
              "<style scoped>\n",
              "    .dataframe tbody tr th:only-of-type {\n",
              "        vertical-align: middle;\n",
              "    }\n",
              "\n",
              "    .dataframe tbody tr th {\n",
              "        vertical-align: top;\n",
              "    }\n",
              "\n",
              "    .dataframe thead th {\n",
              "        text-align: right;\n",
              "    }\n",
              "</style>\n",
              "<table border=\"1\" class=\"dataframe\">\n",
              "  <thead>\n",
              "    <tr style=\"text-align: right;\">\n",
              "      <th></th>\n",
              "      <th>0</th>\n",
              "    </tr>\n",
              "  </thead>\n",
              "  <tbody>\n",
              "    <tr>\n",
              "      <th>gender</th>\n",
              "      <td>0</td>\n",
              "    </tr>\n",
              "    <tr>\n",
              "      <th>SeniorCitizen</th>\n",
              "      <td>0</td>\n",
              "    </tr>\n",
              "    <tr>\n",
              "      <th>Partner</th>\n",
              "      <td>0</td>\n",
              "    </tr>\n",
              "    <tr>\n",
              "      <th>Dependents</th>\n",
              "      <td>0</td>\n",
              "    </tr>\n",
              "    <tr>\n",
              "      <th>tenure</th>\n",
              "      <td>0</td>\n",
              "    </tr>\n",
              "    <tr>\n",
              "      <th>PhoneService</th>\n",
              "      <td>0</td>\n",
              "    </tr>\n",
              "    <tr>\n",
              "      <th>MultipleLines</th>\n",
              "      <td>0</td>\n",
              "    </tr>\n",
              "    <tr>\n",
              "      <th>InternetService</th>\n",
              "      <td>0</td>\n",
              "    </tr>\n",
              "    <tr>\n",
              "      <th>OnlineSecurity</th>\n",
              "      <td>0</td>\n",
              "    </tr>\n",
              "    <tr>\n",
              "      <th>OnlineBackup</th>\n",
              "      <td>0</td>\n",
              "    </tr>\n",
              "    <tr>\n",
              "      <th>DeviceProtection</th>\n",
              "      <td>0</td>\n",
              "    </tr>\n",
              "    <tr>\n",
              "      <th>TechSupport</th>\n",
              "      <td>0</td>\n",
              "    </tr>\n",
              "    <tr>\n",
              "      <th>StreamingTV</th>\n",
              "      <td>0</td>\n",
              "    </tr>\n",
              "    <tr>\n",
              "      <th>StreamingMovies</th>\n",
              "      <td>0</td>\n",
              "    </tr>\n",
              "    <tr>\n",
              "      <th>Contract</th>\n",
              "      <td>0</td>\n",
              "    </tr>\n",
              "    <tr>\n",
              "      <th>PaperlessBilling</th>\n",
              "      <td>0</td>\n",
              "    </tr>\n",
              "    <tr>\n",
              "      <th>PaymentMethod</th>\n",
              "      <td>0</td>\n",
              "    </tr>\n",
              "    <tr>\n",
              "      <th>MonthlyCharges</th>\n",
              "      <td>0</td>\n",
              "    </tr>\n",
              "    <tr>\n",
              "      <th>TotalCharges</th>\n",
              "      <td>0</td>\n",
              "    </tr>\n",
              "    <tr>\n",
              "      <th>Churn</th>\n",
              "      <td>0</td>\n",
              "    </tr>\n",
              "  </tbody>\n",
              "</table>\n",
              "</div><br><label><b>dtype:</b> int64</label>"
            ]
          },
          "metadata": {},
          "execution_count": 9
        }
      ]
    },
    {
      "cell_type": "markdown",
      "source": [
        "**5. Separate categorical and numerical features for appropriate preprocessing.**\n",
        "\n",
        "* **Binary Categorical:** Use LabelEncoder.\n",
        "* **Multi-Class Categorical:** Use pd.get_dummies() or OneHotEncoder.\n",
        "\n",
        "**Note:** Check wether the binary value is Ordinal or Not to apply LabelEncoder\n"
      ],
      "metadata": {
        "id": "iOBHyxClLSwN"
      }
    },
    {
      "cell_type": "code",
      "source": [
        "# Identify the categorical column with binary and multi value\n",
        "\n",
        "categorical_cols=df.select_dtypes(include=['object']).columns.tolist()\n",
        "binary_col=[i for i in categorical_cols if df[i].nunique() == 2]\n",
        "multi_col=[i for i in categorical_cols if df[i].nunique() > 2]\n",
        "\n",
        "print(categorical_cols)\n",
        "print(len(categorical_cols))\n",
        "print(binary_col)\n",
        "print(len(binary_col))\n",
        "print(multi_col)\n",
        "print(len(multi_col))"
      ],
      "metadata": {
        "colab": {
          "base_uri": "https://localhost:8080/"
        },
        "id": "wsm1t7LPNYW-",
        "outputId": "ab32e89c-7d70-4f11-ce6e-83adeffd3391"
      },
      "execution_count": null,
      "outputs": [
        {
          "output_type": "stream",
          "name": "stdout",
          "text": [
            "['gender', 'Partner', 'Dependents', 'PhoneService', 'MultipleLines', 'InternetService', 'OnlineSecurity', 'OnlineBackup', 'DeviceProtection', 'TechSupport', 'StreamingTV', 'StreamingMovies', 'Contract', 'PaperlessBilling', 'PaymentMethod', 'Churn']\n",
            "16\n",
            "['gender', 'Partner', 'Dependents', 'PhoneService', 'PaperlessBilling', 'Churn']\n",
            "6\n",
            "['MultipleLines', 'InternetService', 'OnlineSecurity', 'OnlineBackup', 'DeviceProtection', 'TechSupport', 'StreamingTV', 'StreamingMovies', 'Contract', 'PaymentMethod']\n",
            "10\n"
          ]
        }
      ]
    },
    {
      "cell_type": "code",
      "source": [
        "from sklearn.preprocessing import LabelEncoder\n",
        "le=LabelEncoder()\n",
        "for i in binary_col:\n",
        "  df[i]=le.fit_transform(df[i])\n",
        "\n",
        "df=pd.get_dummies(df, columns=multi_col, dtype=int)\n",
        "\n",
        "print(df.info())"
      ],
      "metadata": {
        "colab": {
          "base_uri": "https://localhost:8080/"
        },
        "id": "X3EIFjFeo2rP",
        "outputId": "2e53e981-9376-4f33-f1da-07ad45f40795"
      },
      "execution_count": null,
      "outputs": [
        {
          "output_type": "stream",
          "name": "stdout",
          "text": [
            "<class 'pandas.core.frame.DataFrame'>\n",
            "RangeIndex: 7043 entries, 0 to 7042\n",
            "Data columns (total 41 columns):\n",
            " #   Column                                   Non-Null Count  Dtype  \n",
            "---  ------                                   --------------  -----  \n",
            " 0   gender                                   7043 non-null   int64  \n",
            " 1   SeniorCitizen                            7043 non-null   int64  \n",
            " 2   Partner                                  7043 non-null   int64  \n",
            " 3   Dependents                               7043 non-null   int64  \n",
            " 4   tenure                                   7043 non-null   int64  \n",
            " 5   PhoneService                             7043 non-null   int64  \n",
            " 6   PaperlessBilling                         7043 non-null   int64  \n",
            " 7   MonthlyCharges                           7043 non-null   float64\n",
            " 8   TotalCharges                             7043 non-null   float64\n",
            " 9   Churn                                    7043 non-null   int64  \n",
            " 10  MultipleLines_No                         7043 non-null   int64  \n",
            " 11  MultipleLines_No phone service           7043 non-null   int64  \n",
            " 12  MultipleLines_Yes                        7043 non-null   int64  \n",
            " 13  InternetService_DSL                      7043 non-null   int64  \n",
            " 14  InternetService_Fiber optic              7043 non-null   int64  \n",
            " 15  InternetService_No                       7043 non-null   int64  \n",
            " 16  OnlineSecurity_No                        7043 non-null   int64  \n",
            " 17  OnlineSecurity_No internet service       7043 non-null   int64  \n",
            " 18  OnlineSecurity_Yes                       7043 non-null   int64  \n",
            " 19  OnlineBackup_No                          7043 non-null   int64  \n",
            " 20  OnlineBackup_No internet service         7043 non-null   int64  \n",
            " 21  OnlineBackup_Yes                         7043 non-null   int64  \n",
            " 22  DeviceProtection_No                      7043 non-null   int64  \n",
            " 23  DeviceProtection_No internet service     7043 non-null   int64  \n",
            " 24  DeviceProtection_Yes                     7043 non-null   int64  \n",
            " 25  TechSupport_No                           7043 non-null   int64  \n",
            " 26  TechSupport_No internet service          7043 non-null   int64  \n",
            " 27  TechSupport_Yes                          7043 non-null   int64  \n",
            " 28  StreamingTV_No                           7043 non-null   int64  \n",
            " 29  StreamingTV_No internet service          7043 non-null   int64  \n",
            " 30  StreamingTV_Yes                          7043 non-null   int64  \n",
            " 31  StreamingMovies_No                       7043 non-null   int64  \n",
            " 32  StreamingMovies_No internet service      7043 non-null   int64  \n",
            " 33  StreamingMovies_Yes                      7043 non-null   int64  \n",
            " 34  Contract_Month-to-month                  7043 non-null   int64  \n",
            " 35  Contract_One year                        7043 non-null   int64  \n",
            " 36  Contract_Two year                        7043 non-null   int64  \n",
            " 37  PaymentMethod_Bank transfer (automatic)  7043 non-null   int64  \n",
            " 38  PaymentMethod_Credit card (automatic)    7043 non-null   int64  \n",
            " 39  PaymentMethod_Electronic check           7043 non-null   int64  \n",
            " 40  PaymentMethod_Mailed check               7043 non-null   int64  \n",
            "dtypes: float64(2), int64(39)\n",
            "memory usage: 2.2 MB\n",
            "None\n"
          ]
        }
      ]
    },
    {
      "cell_type": "code",
      "source": [
        "df.head()"
      ],
      "metadata": {
        "colab": {
          "base_uri": "https://localhost:8080/",
          "height": 290
        },
        "id": "RdNEdL1cpoKg",
        "outputId": "2577ff3b-d9e4-4196-8c9d-a9508e096d57"
      },
      "execution_count": null,
      "outputs": [
        {
          "output_type": "execute_result",
          "data": {
            "text/plain": [
              "   gender  SeniorCitizen  Partner  Dependents  tenure  PhoneService  \\\n",
              "0       0              0        1           0       1             0   \n",
              "1       1              0        0           0      34             1   \n",
              "2       1              0        0           0       2             1   \n",
              "3       1              0        0           0      45             0   \n",
              "4       0              0        0           0       2             1   \n",
              "\n",
              "   PaperlessBilling  MonthlyCharges  TotalCharges  Churn  ...  \\\n",
              "0                 1           29.85         29.85      0  ...   \n",
              "1                 0           56.95       1889.50      0  ...   \n",
              "2                 1           53.85        108.15      1  ...   \n",
              "3                 0           42.30       1840.75      0  ...   \n",
              "4                 1           70.70        151.65      1  ...   \n",
              "\n",
              "   StreamingMovies_No  StreamingMovies_No internet service  \\\n",
              "0                   1                                    0   \n",
              "1                   1                                    0   \n",
              "2                   1                                    0   \n",
              "3                   1                                    0   \n",
              "4                   1                                    0   \n",
              "\n",
              "   StreamingMovies_Yes  Contract_Month-to-month  Contract_One year  \\\n",
              "0                    0                        1                  0   \n",
              "1                    0                        0                  1   \n",
              "2                    0                        1                  0   \n",
              "3                    0                        0                  1   \n",
              "4                    0                        1                  0   \n",
              "\n",
              "   Contract_Two year  PaymentMethod_Bank transfer (automatic)  \\\n",
              "0                  0                                        0   \n",
              "1                  0                                        0   \n",
              "2                  0                                        0   \n",
              "3                  0                                        1   \n",
              "4                  0                                        0   \n",
              "\n",
              "   PaymentMethod_Credit card (automatic)  PaymentMethod_Electronic check  \\\n",
              "0                                      0                               1   \n",
              "1                                      0                               0   \n",
              "2                                      0                               0   \n",
              "3                                      0                               0   \n",
              "4                                      0                               1   \n",
              "\n",
              "   PaymentMethod_Mailed check  \n",
              "0                           0  \n",
              "1                           1  \n",
              "2                           1  \n",
              "3                           0  \n",
              "4                           0  \n",
              "\n",
              "[5 rows x 41 columns]"
            ],
            "text/html": [
              "\n",
              "  <div id=\"df-fe6ec9ee-c90b-4655-9335-15e11bad3a03\" class=\"colab-df-container\">\n",
              "    <div>\n",
              "<style scoped>\n",
              "    .dataframe tbody tr th:only-of-type {\n",
              "        vertical-align: middle;\n",
              "    }\n",
              "\n",
              "    .dataframe tbody tr th {\n",
              "        vertical-align: top;\n",
              "    }\n",
              "\n",
              "    .dataframe thead th {\n",
              "        text-align: right;\n",
              "    }\n",
              "</style>\n",
              "<table border=\"1\" class=\"dataframe\">\n",
              "  <thead>\n",
              "    <tr style=\"text-align: right;\">\n",
              "      <th></th>\n",
              "      <th>gender</th>\n",
              "      <th>SeniorCitizen</th>\n",
              "      <th>Partner</th>\n",
              "      <th>Dependents</th>\n",
              "      <th>tenure</th>\n",
              "      <th>PhoneService</th>\n",
              "      <th>PaperlessBilling</th>\n",
              "      <th>MonthlyCharges</th>\n",
              "      <th>TotalCharges</th>\n",
              "      <th>Churn</th>\n",
              "      <th>...</th>\n",
              "      <th>StreamingMovies_No</th>\n",
              "      <th>StreamingMovies_No internet service</th>\n",
              "      <th>StreamingMovies_Yes</th>\n",
              "      <th>Contract_Month-to-month</th>\n",
              "      <th>Contract_One year</th>\n",
              "      <th>Contract_Two year</th>\n",
              "      <th>PaymentMethod_Bank transfer (automatic)</th>\n",
              "      <th>PaymentMethod_Credit card (automatic)</th>\n",
              "      <th>PaymentMethod_Electronic check</th>\n",
              "      <th>PaymentMethod_Mailed check</th>\n",
              "    </tr>\n",
              "  </thead>\n",
              "  <tbody>\n",
              "    <tr>\n",
              "      <th>0</th>\n",
              "      <td>0</td>\n",
              "      <td>0</td>\n",
              "      <td>1</td>\n",
              "      <td>0</td>\n",
              "      <td>1</td>\n",
              "      <td>0</td>\n",
              "      <td>1</td>\n",
              "      <td>29.85</td>\n",
              "      <td>29.85</td>\n",
              "      <td>0</td>\n",
              "      <td>...</td>\n",
              "      <td>1</td>\n",
              "      <td>0</td>\n",
              "      <td>0</td>\n",
              "      <td>1</td>\n",
              "      <td>0</td>\n",
              "      <td>0</td>\n",
              "      <td>0</td>\n",
              "      <td>0</td>\n",
              "      <td>1</td>\n",
              "      <td>0</td>\n",
              "    </tr>\n",
              "    <tr>\n",
              "      <th>1</th>\n",
              "      <td>1</td>\n",
              "      <td>0</td>\n",
              "      <td>0</td>\n",
              "      <td>0</td>\n",
              "      <td>34</td>\n",
              "      <td>1</td>\n",
              "      <td>0</td>\n",
              "      <td>56.95</td>\n",
              "      <td>1889.50</td>\n",
              "      <td>0</td>\n",
              "      <td>...</td>\n",
              "      <td>1</td>\n",
              "      <td>0</td>\n",
              "      <td>0</td>\n",
              "      <td>0</td>\n",
              "      <td>1</td>\n",
              "      <td>0</td>\n",
              "      <td>0</td>\n",
              "      <td>0</td>\n",
              "      <td>0</td>\n",
              "      <td>1</td>\n",
              "    </tr>\n",
              "    <tr>\n",
              "      <th>2</th>\n",
              "      <td>1</td>\n",
              "      <td>0</td>\n",
              "      <td>0</td>\n",
              "      <td>0</td>\n",
              "      <td>2</td>\n",
              "      <td>1</td>\n",
              "      <td>1</td>\n",
              "      <td>53.85</td>\n",
              "      <td>108.15</td>\n",
              "      <td>1</td>\n",
              "      <td>...</td>\n",
              "      <td>1</td>\n",
              "      <td>0</td>\n",
              "      <td>0</td>\n",
              "      <td>1</td>\n",
              "      <td>0</td>\n",
              "      <td>0</td>\n",
              "      <td>0</td>\n",
              "      <td>0</td>\n",
              "      <td>0</td>\n",
              "      <td>1</td>\n",
              "    </tr>\n",
              "    <tr>\n",
              "      <th>3</th>\n",
              "      <td>1</td>\n",
              "      <td>0</td>\n",
              "      <td>0</td>\n",
              "      <td>0</td>\n",
              "      <td>45</td>\n",
              "      <td>0</td>\n",
              "      <td>0</td>\n",
              "      <td>42.30</td>\n",
              "      <td>1840.75</td>\n",
              "      <td>0</td>\n",
              "      <td>...</td>\n",
              "      <td>1</td>\n",
              "      <td>0</td>\n",
              "      <td>0</td>\n",
              "      <td>0</td>\n",
              "      <td>1</td>\n",
              "      <td>0</td>\n",
              "      <td>1</td>\n",
              "      <td>0</td>\n",
              "      <td>0</td>\n",
              "      <td>0</td>\n",
              "    </tr>\n",
              "    <tr>\n",
              "      <th>4</th>\n",
              "      <td>0</td>\n",
              "      <td>0</td>\n",
              "      <td>0</td>\n",
              "      <td>0</td>\n",
              "      <td>2</td>\n",
              "      <td>1</td>\n",
              "      <td>1</td>\n",
              "      <td>70.70</td>\n",
              "      <td>151.65</td>\n",
              "      <td>1</td>\n",
              "      <td>...</td>\n",
              "      <td>1</td>\n",
              "      <td>0</td>\n",
              "      <td>0</td>\n",
              "      <td>1</td>\n",
              "      <td>0</td>\n",
              "      <td>0</td>\n",
              "      <td>0</td>\n",
              "      <td>0</td>\n",
              "      <td>1</td>\n",
              "      <td>0</td>\n",
              "    </tr>\n",
              "  </tbody>\n",
              "</table>\n",
              "<p>5 rows × 41 columns</p>\n",
              "</div>\n",
              "    <div class=\"colab-df-buttons\">\n",
              "\n",
              "  <div class=\"colab-df-container\">\n",
              "    <button class=\"colab-df-convert\" onclick=\"convertToInteractive('df-fe6ec9ee-c90b-4655-9335-15e11bad3a03')\"\n",
              "            title=\"Convert this dataframe to an interactive table.\"\n",
              "            style=\"display:none;\">\n",
              "\n",
              "  <svg xmlns=\"http://www.w3.org/2000/svg\" height=\"24px\" viewBox=\"0 -960 960 960\">\n",
              "    <path d=\"M120-120v-720h720v720H120Zm60-500h600v-160H180v160Zm220 220h160v-160H400v160Zm0 220h160v-160H400v160ZM180-400h160v-160H180v160Zm440 0h160v-160H620v160ZM180-180h160v-160H180v160Zm440 0h160v-160H620v160Z\"/>\n",
              "  </svg>\n",
              "    </button>\n",
              "\n",
              "  <style>\n",
              "    .colab-df-container {\n",
              "      display:flex;\n",
              "      gap: 12px;\n",
              "    }\n",
              "\n",
              "    .colab-df-convert {\n",
              "      background-color: #E8F0FE;\n",
              "      border: none;\n",
              "      border-radius: 50%;\n",
              "      cursor: pointer;\n",
              "      display: none;\n",
              "      fill: #1967D2;\n",
              "      height: 32px;\n",
              "      padding: 0 0 0 0;\n",
              "      width: 32px;\n",
              "    }\n",
              "\n",
              "    .colab-df-convert:hover {\n",
              "      background-color: #E2EBFA;\n",
              "      box-shadow: 0px 1px 2px rgba(60, 64, 67, 0.3), 0px 1px 3px 1px rgba(60, 64, 67, 0.15);\n",
              "      fill: #174EA6;\n",
              "    }\n",
              "\n",
              "    .colab-df-buttons div {\n",
              "      margin-bottom: 4px;\n",
              "    }\n",
              "\n",
              "    [theme=dark] .colab-df-convert {\n",
              "      background-color: #3B4455;\n",
              "      fill: #D2E3FC;\n",
              "    }\n",
              "\n",
              "    [theme=dark] .colab-df-convert:hover {\n",
              "      background-color: #434B5C;\n",
              "      box-shadow: 0px 1px 3px 1px rgba(0, 0, 0, 0.15);\n",
              "      filter: drop-shadow(0px 1px 2px rgba(0, 0, 0, 0.3));\n",
              "      fill: #FFFFFF;\n",
              "    }\n",
              "  </style>\n",
              "\n",
              "    <script>\n",
              "      const buttonEl =\n",
              "        document.querySelector('#df-fe6ec9ee-c90b-4655-9335-15e11bad3a03 button.colab-df-convert');\n",
              "      buttonEl.style.display =\n",
              "        google.colab.kernel.accessAllowed ? 'block' : 'none';\n",
              "\n",
              "      async function convertToInteractive(key) {\n",
              "        const element = document.querySelector('#df-fe6ec9ee-c90b-4655-9335-15e11bad3a03');\n",
              "        const dataTable =\n",
              "          await google.colab.kernel.invokeFunction('convertToInteractive',\n",
              "                                                    [key], {});\n",
              "        if (!dataTable) return;\n",
              "\n",
              "        const docLinkHtml = 'Like what you see? Visit the ' +\n",
              "          '<a target=\"_blank\" href=https://colab.research.google.com/notebooks/data_table.ipynb>data table notebook</a>'\n",
              "          + ' to learn more about interactive tables.';\n",
              "        element.innerHTML = '';\n",
              "        dataTable['output_type'] = 'display_data';\n",
              "        await google.colab.output.renderOutput(dataTable, element);\n",
              "        const docLink = document.createElement('div');\n",
              "        docLink.innerHTML = docLinkHtml;\n",
              "        element.appendChild(docLink);\n",
              "      }\n",
              "    </script>\n",
              "  </div>\n",
              "\n",
              "\n",
              "<div id=\"df-3a72e6b2-1b41-4d35-8e80-fe590e087e6b\">\n",
              "  <button class=\"colab-df-quickchart\" onclick=\"quickchart('df-3a72e6b2-1b41-4d35-8e80-fe590e087e6b')\"\n",
              "            title=\"Suggest charts\"\n",
              "            style=\"display:none;\">\n",
              "\n",
              "<svg xmlns=\"http://www.w3.org/2000/svg\" height=\"24px\"viewBox=\"0 0 24 24\"\n",
              "     width=\"24px\">\n",
              "    <g>\n",
              "        <path d=\"M19 3H5c-1.1 0-2 .9-2 2v14c0 1.1.9 2 2 2h14c1.1 0 2-.9 2-2V5c0-1.1-.9-2-2-2zM9 17H7v-7h2v7zm4 0h-2V7h2v10zm4 0h-2v-4h2v4z\"/>\n",
              "    </g>\n",
              "</svg>\n",
              "  </button>\n",
              "\n",
              "<style>\n",
              "  .colab-df-quickchart {\n",
              "      --bg-color: #E8F0FE;\n",
              "      --fill-color: #1967D2;\n",
              "      --hover-bg-color: #E2EBFA;\n",
              "      --hover-fill-color: #174EA6;\n",
              "      --disabled-fill-color: #AAA;\n",
              "      --disabled-bg-color: #DDD;\n",
              "  }\n",
              "\n",
              "  [theme=dark] .colab-df-quickchart {\n",
              "      --bg-color: #3B4455;\n",
              "      --fill-color: #D2E3FC;\n",
              "      --hover-bg-color: #434B5C;\n",
              "      --hover-fill-color: #FFFFFF;\n",
              "      --disabled-bg-color: #3B4455;\n",
              "      --disabled-fill-color: #666;\n",
              "  }\n",
              "\n",
              "  .colab-df-quickchart {\n",
              "    background-color: var(--bg-color);\n",
              "    border: none;\n",
              "    border-radius: 50%;\n",
              "    cursor: pointer;\n",
              "    display: none;\n",
              "    fill: var(--fill-color);\n",
              "    height: 32px;\n",
              "    padding: 0;\n",
              "    width: 32px;\n",
              "  }\n",
              "\n",
              "  .colab-df-quickchart:hover {\n",
              "    background-color: var(--hover-bg-color);\n",
              "    box-shadow: 0 1px 2px rgba(60, 64, 67, 0.3), 0 1px 3px 1px rgba(60, 64, 67, 0.15);\n",
              "    fill: var(--button-hover-fill-color);\n",
              "  }\n",
              "\n",
              "  .colab-df-quickchart-complete:disabled,\n",
              "  .colab-df-quickchart-complete:disabled:hover {\n",
              "    background-color: var(--disabled-bg-color);\n",
              "    fill: var(--disabled-fill-color);\n",
              "    box-shadow: none;\n",
              "  }\n",
              "\n",
              "  .colab-df-spinner {\n",
              "    border: 2px solid var(--fill-color);\n",
              "    border-color: transparent;\n",
              "    border-bottom-color: var(--fill-color);\n",
              "    animation:\n",
              "      spin 1s steps(1) infinite;\n",
              "  }\n",
              "\n",
              "  @keyframes spin {\n",
              "    0% {\n",
              "      border-color: transparent;\n",
              "      border-bottom-color: var(--fill-color);\n",
              "      border-left-color: var(--fill-color);\n",
              "    }\n",
              "    20% {\n",
              "      border-color: transparent;\n",
              "      border-left-color: var(--fill-color);\n",
              "      border-top-color: var(--fill-color);\n",
              "    }\n",
              "    30% {\n",
              "      border-color: transparent;\n",
              "      border-left-color: var(--fill-color);\n",
              "      border-top-color: var(--fill-color);\n",
              "      border-right-color: var(--fill-color);\n",
              "    }\n",
              "    40% {\n",
              "      border-color: transparent;\n",
              "      border-right-color: var(--fill-color);\n",
              "      border-top-color: var(--fill-color);\n",
              "    }\n",
              "    60% {\n",
              "      border-color: transparent;\n",
              "      border-right-color: var(--fill-color);\n",
              "    }\n",
              "    80% {\n",
              "      border-color: transparent;\n",
              "      border-right-color: var(--fill-color);\n",
              "      border-bottom-color: var(--fill-color);\n",
              "    }\n",
              "    90% {\n",
              "      border-color: transparent;\n",
              "      border-bottom-color: var(--fill-color);\n",
              "    }\n",
              "  }\n",
              "</style>\n",
              "\n",
              "  <script>\n",
              "    async function quickchart(key) {\n",
              "      const quickchartButtonEl =\n",
              "        document.querySelector('#' + key + ' button');\n",
              "      quickchartButtonEl.disabled = true;  // To prevent multiple clicks.\n",
              "      quickchartButtonEl.classList.add('colab-df-spinner');\n",
              "      try {\n",
              "        const charts = await google.colab.kernel.invokeFunction(\n",
              "            'suggestCharts', [key], {});\n",
              "      } catch (error) {\n",
              "        console.error('Error during call to suggestCharts:', error);\n",
              "      }\n",
              "      quickchartButtonEl.classList.remove('colab-df-spinner');\n",
              "      quickchartButtonEl.classList.add('colab-df-quickchart-complete');\n",
              "    }\n",
              "    (() => {\n",
              "      let quickchartButtonEl =\n",
              "        document.querySelector('#df-3a72e6b2-1b41-4d35-8e80-fe590e087e6b button');\n",
              "      quickchartButtonEl.style.display =\n",
              "        google.colab.kernel.accessAllowed ? 'block' : 'none';\n",
              "    })();\n",
              "  </script>\n",
              "</div>\n",
              "\n",
              "    </div>\n",
              "  </div>\n"
            ],
            "application/vnd.google.colaboratory.intrinsic+json": {
              "type": "dataframe",
              "variable_name": "df"
            }
          },
          "metadata": {},
          "execution_count": 12
        }
      ]
    },
    {
      "cell_type": "markdown",
      "source": [
        "**6. Class Imbalance validation**"
      ],
      "metadata": {
        "id": "67DAGwc_MTxT"
      }
    },
    {
      "cell_type": "code",
      "source": [
        "# Check for Imbalance\n",
        "\n",
        "# Count the number of Churn and non Churn employees\n",
        "churn_count=df['Churn'].value_counts(normalize=True) * 100\n",
        "print(churn_count)\n",
        "\n",
        "plt.figure(figsize=(6,4))\n",
        "sns.barplot(x=churn_count.index, y=churn_count.values)\n",
        "plt.xlabel(\"Churn\")\n",
        "plt.ylabel(\"Percentage\")\n",
        "plt.title(\"Churn Distribution\")\n",
        "plt.show()"
      ],
      "metadata": {
        "id": "unPwwqFftJ1J",
        "colab": {
          "base_uri": "https://localhost:8080/",
          "height": 482
        },
        "outputId": "2fa08d60-df41-4271-d6df-24d0407fecc4"
      },
      "execution_count": null,
      "outputs": [
        {
          "output_type": "stream",
          "name": "stdout",
          "text": [
            "Churn\n",
            "0    73.463013\n",
            "1    26.536987\n",
            "Name: proportion, dtype: float64\n"
          ]
        },
        {
          "output_type": "display_data",
          "data": {
            "text/plain": [
              "<Figure size 600x400 with 1 Axes>"
            ],
            "image/png": "[encoded data removed]"
          },
          "metadata": {}
        }
      ]
    },
    {
      "cell_type": "code",
      "source": [
        "# Balance the class using SMOTE\n",
        "\n",
        "from imblearn.over_sampling import SMOTE\n",
        "from collections import Counter\n",
        "\n",
        "# Separate features and target variable\n",
        "X=df.drop('Churn', axis=1)\n",
        "y=df['Churn']\n",
        "\n",
        "# Display original class distribution\n",
        "print(\"Original class Distribution:\", Counter(y))\n",
        "\n",
        "#Apply SMOTE\n",
        "smote=SMOTE(sampling_strategy=1, random_state=42)\n",
        "X_re, y_re = smote.fit_resample(X,y)\n",
        "\n",
        "# Display new balanced class distribution\n",
        "print(\"New Balanced class Distribution:\", Counter(y_re))\n",
        "\n",
        "# Convert back to Dataframe\n",
        "df_re=pd.DataFrame(X_re, columns=X.columns)\n",
        "df_re['Churn']= y_re"
      ],
      "metadata": {
        "colab": {
          "base_uri": "https://localhost:8080/"
        },
        "id": "hfKF17zMbwbh",
        "outputId": "4428dc00-86cf-47dd-cb96-6299e1ea66e8"
      },
      "execution_count": null,
      "outputs": [
        {
          "output_type": "stream",
          "name": "stdout",
          "text": [
            "Original class Distribution: Counter({0: 5174, 1: 1869})\n",
            "New Balanced class Distribution: Counter({0: 5174, 1: 5174})\n"
          ]
        }
      ]
    },
    {
      "cell_type": "code",
      "source": [
        "# Check for Imbalance\n",
        "\n",
        "# Count the number of Churn and non Churn employees\n",
        "churn_count=df_re['Churn'].value_counts(normalize=True) * 100\n",
        "print(churn_count)\n",
        "\n",
        "plt.figure(figsize=(6,4))\n",
        "sns.barplot(x=churn_count.index, y=churn_count.values)\n",
        "plt.xlabel(\"Churn\")\n",
        "plt.ylabel(\"Percentage\")\n",
        "plt.title(\"Churn Distribution\")\n",
        "plt.show()"
      ],
      "metadata": {
        "colab": {
          "base_uri": "https://localhost:8080/",
          "height": 482
        },
        "id": "6Fm8HuhPeSB4",
        "outputId": "91d34360-1696-4793-8f05-7d667f7356fc"
      },
      "execution_count": null,
      "outputs": [
        {
          "output_type": "stream",
          "name": "stdout",
          "text": [
            "Churn\n",
            "0    50.0\n",
            "1    50.0\n",
            "Name: proportion, dtype: float64\n"
          ]
        },
        {
          "output_type": "display_data",
          "data": {
            "text/plain": [
              "<Figure size 600x400 with 1 Axes>"
            ],
            "image/png": "[encoded data removed]"
          },
          "metadata": {}
        }
      ]
    },
    {
      "cell_type": "markdown",
      "source": [
        "**7. Apply Algorithms that can be applicable**"
      ],
      "metadata": {
        "id": "kLpyXNmvMncr"
      }
    },
    {
      "cell_type": "code",
      "source": [
        "# Split to Feature and Target Clomuns\n",
        "\n",
        "X=df_re.drop('Churn', axis=1)\n",
        "y=df_re['Churn']\n",
        "\n",
        "from sklearn.model_selection import train_test_split\n",
        "X_train, X_test, y_train,y_test=train_test_split(X,y, test_size=0.2 ,random_state=42)"
      ],
      "metadata": {
        "id": "rIeUKbDRedhe"
      },
      "execution_count": null,
      "outputs": []
    },
    {
      "cell_type": "code",
      "source": [
        "!pip install catboost"
      ],
      "metadata": {
        "colab": {
          "base_uri": "https://localhost:8080/"
        },
        "collapsed": true,
        "id": "KWK2goKGP7bv",
        "outputId": "7c1abcaf-980d-4605-eff7-752e19db40e1"
      },
      "execution_count": null,
      "outputs": [
        {
          "output_type": "stream",
          "name": "stdout",
          "text": [
            "Collecting catboost\n",
            "  Downloading catboost-1.2.7-cp311-cp311-manylinux2014_x86_64.whl.metadata (1.2 kB)\n",
            "Requirement already satisfied: graphviz in /usr/local/lib/python3.11/dist-packages (from catboost) (0.20.3)\n",
            "Requirement already satisfied: matplotlib in /usr/local/lib/python3.11/dist-packages (from catboost) (3.10.0)\n",
            "Requirement already satisfied: numpy<2.0,>=1.16.0 in /usr/local/lib/python3.11/dist-packages (from catboost) (1.26.4)\n",
            "Requirement already satisfied: pandas>=0.24 in /usr/local/lib/python3.11/dist-packages (from catboost) (2.2.2)\n",
            "Requirement already satisfied: scipy in /usr/local/lib/python3.11/dist-packages (from catboost) (1.13.1)\n",
            "Requirement already satisfied: plotly in /usr/local/lib/python3.11/dist-packages (from catboost) (5.24.1)\n",
            "Requirement already satisfied: six in /usr/local/lib/python3.11/dist-packages (from catboost) (1.17.0)\n",
            "Requirement already satisfied: python-dateutil>=2.8.2 in /usr/local/lib/python3.11/dist-packages (from pandas>=0.24->catboost) (2.8.2)\n",
            "Requirement already satisfied: pytz>=2020.1 in /usr/local/lib/python3.11/dist-packages (from pandas>=0.24->catboost) (2025.1)\n",
            "Requirement already satisfied: tzdata>=2022.7 in /usr/local/lib/python3.11/dist-packages (from pandas>=0.24->catboost) (2025.1)\n",
            "Requirement already satisfied: contourpy>=1.0.1 in /usr/local/lib/python3.11/dist-packages (from matplotlib->catboost) (1.3.1)\n",
            "Requirement already satisfied: cycler>=0.10 in /usr/local/lib/python3.11/dist-packages (from matplotlib->catboost) (0.12.1)\n",
            "Requirement already satisfied: fonttools>=4.22.0 in /usr/local/lib/python3.11/dist-packages (from matplotlib->catboost) (4.55.8)\n",
            "Requirement already satisfied: kiwisolver>=1.3.1 in /usr/local/lib/python3.11/dist-packages (from matplotlib->catboost) (1.4.8)\n",
            "Requirement already satisfied: packaging>=20.0 in /usr/local/lib/python3.11/dist-packages (from matplotlib->catboost) (24.2)\n",
            "Requirement already satisfied: pillow>=8 in /usr/local/lib/python3.11/dist-packages (from matplotlib->catboost) (11.1.0)\n",
            "Requirement already satisfied: pyparsing>=2.3.1 in /usr/local/lib/python3.11/dist-packages (from matplotlib->catboost) (3.2.1)\n",
            "Requirement already satisfied: tenacity>=6.2.0 in /usr/local/lib/python3.11/dist-packages (from plotly->catboost) (9.0.0)\n",
            "Downloading catboost-1.2.7-cp311-cp311-manylinux2014_x86_64.whl (98.7 MB)\n",
            "\u001b[2K   \u001b[90m━━━━━━━━━━━━━━━━━━━━━━━━━━━━━━━━━━━━━━━━\u001b[0m \u001b[32m98.7/98.7 MB\u001b[0m \u001b[31m7.0 MB/s\u001b[0m eta \u001b[36m0:00:00\u001b[0m\n",
            "\u001b[?25hInstalling collected packages: catboost\n",
            "Successfully installed catboost-1.2.7\n"
          ]
        }
      ]
    },
    {
      "cell_type": "code",
      "source": [
        "from sklearn.ensemble import RandomForestClassifier\n",
        "from xgboost import XGBClassifier\n",
        "from lightgbm import LGBMClassifier\n",
        "from sklearn.neighbors import KNeighborsClassifier\n",
        "from catboost import CatBoostClassifier\n",
        "\n",
        "from sklearn.model_selection import GridSearchCV, KFold, cross_val_score\n",
        "from sklearn.metrics import accuracy_score, classification_report, roc_auc_score, roc_curve, ConfusionMatrixDisplay"
      ],
      "metadata": {
        "id": "Y9gJdKNnfMnW"
      },
      "execution_count": null,
      "outputs": []
    },
    {
      "cell_type": "markdown",
      "source": [
        "**8. Function for Evaluation**"
      ],
      "metadata": {
        "id": "8IaIcpfbQZDB"
      }
    },
    {
      "cell_type": "code",
      "source": [
        "def evaluate_model(model, X_train, X_test, y_train, y_test):\n",
        "  model.fit(X_train, y_train)\n",
        "  y_pred=model.predict(X_test)\n",
        "  y_proba=model.predict_proba(X_test)[:,1]\n",
        "\n",
        "  # Accuracy and Classification Report\n",
        "  print(f\"Model:{model.__class__.__name__}\")\n",
        "  print(\"Accuracy:\", accuracy_score(y_test,y_pred))\n",
        "  print(\"Classification Report: \\n\", classification_report(y_test, y_pred))\n",
        "\n",
        "  # AUC ROC\n",
        "  auc=roc_auc_score(y_test, y_proba)\n",
        "  print(\"AUC-ROC:\", auc)\n",
        "\n",
        "  # Plot ROC Curve\n",
        "  fpr, tpr, thresholds=roc_curve(y_test, y_proba)\n",
        "  plt.plot(fpr, tpr, label=f'{model.__class__.__name__} (AUC = {auc:.2f})')\n",
        "  plt.plot([0, 1], [0, 1], linestyle='--')\n",
        "  plt.xlabel('False Positive Rate')\n",
        "  plt.ylabel('True Positive Rate')\n",
        "  plt.title('ROC Curve')\n",
        "  plt.legend()\n",
        "  plt.show()\n",
        "\n",
        "\n",
        "\n"
      ],
      "metadata": {
        "id": "zJ_7yfMbP0X5"
      },
      "execution_count": null,
      "outputs": []
    },
    {
      "cell_type": "code",
      "source": [
        "# 8.1 Random Forest\n",
        "\n",
        "\n",
        "rf=RandomForestClassifier(random_state=42)\n",
        "evaluate_model(rf, X_train, X_test, y_train, y_test)"
      ],
      "metadata": {
        "colab": {
          "base_uri": "https://localhost:8080/",
          "height": 707
        },
        "id": "etOxEv4RQoUH",
        "outputId": "e97557d4-a9a4-4aa7-b898-f710c156f51c"
      },
      "execution_count": null,
      "outputs": [
        {
          "output_type": "stream",
          "name": "stdout",
          "text": [
            "Model:RandomForestClassifier\n",
            "Accuracy: 0.8579710144927536\n",
            "Classification Report: \n",
            "               precision    recall  f1-score   support\n",
            "\n",
            "           0       0.84      0.88      0.86      1021\n",
            "           1       0.88      0.84      0.86      1049\n",
            "\n",
            "    accuracy                           0.86      2070\n",
            "   macro avg       0.86      0.86      0.86      2070\n",
            "weighted avg       0.86      0.86      0.86      2070\n",
            "\n",
            "AUC-ROC: 0.9344494873621535\n"
          ]
        },
        {
          "output_type": "display_data",
          "data": {
            "text/plain": [
              "<Figure size 640x480 with 1 Axes>"
            ],
            "image/png": "[encoded data removed]"
          },
          "metadata": {}
        }
      ]
    },
    {
      "cell_type": "code",
      "source": [
        "# 8.2 XGBoost\n",
        "\n",
        "\n",
        "xgb=XGBClassifier(use_label_encoder=False, eval_metrics='logloss', random_state=42)\n",
        "evaluate_model(xgb, X_train, X_test, y_train, y_test)"
      ],
      "metadata": {
        "colab": {
          "base_uri": "https://localhost:8080/",
          "height": 800
        },
        "id": "6QvYjMxSSqX7",
        "outputId": "3a75f76b-b735-4283-e85c-0bdf560ccb44"
      },
      "execution_count": null,
      "outputs": [
        {
          "output_type": "stream",
          "name": "stderr",
          "text": [
            "/usr/local/lib/python3.11/dist-packages/xgboost/core.py:158: UserWarning: [13:16:50] WARNING: /workspace/src/learner.cc:740: \n",
            "Parameters: { \"eval_metrics\", \"use_label_encoder\" } are not used.\n",
            "\n",
            "  warnings.warn(smsg, UserWarning)\n"
          ]
        },
        {
          "output_type": "stream",
          "name": "stdout",
          "text": [
            "Model:XGBClassifier\n",
            "Accuracy: 0.8492753623188406\n",
            "Classification Report: \n",
            "               precision    recall  f1-score   support\n",
            "\n",
            "           0       0.84      0.86      0.85      1021\n",
            "           1       0.86      0.84      0.85      1049\n",
            "\n",
            "    accuracy                           0.85      2070\n",
            "   macro avg       0.85      0.85      0.85      2070\n",
            "weighted avg       0.85      0.85      0.85      2070\n",
            "\n",
            "AUC-ROC: 0.9345013066873072\n"
          ]
        },
        {
          "output_type": "display_data",
          "data": {
            "text/plain": [
              "<Figure size 640x480 with 1 Axes>"
            ],
            "image/png": "[encoded data removed]"
          },
          "metadata": {}
        }
      ]
    },
    {
      "cell_type": "code",
      "source": [
        "# 8.3  LightGBM\n",
        "\n",
        "\n",
        "lgbm=LGBMClassifier(random_state=42)\n",
        "evaluate_model(lgbm, X_train, X_test, y_train, y_test)"
      ],
      "metadata": {
        "colab": {
          "base_uri": "https://localhost:8080/",
          "height": 890
        },
        "id": "Q6OwJKo0ThV0",
        "outputId": "cce16bd3-03c4-4cde-80fd-b75ae75d5d34"
      },
      "execution_count": null,
      "outputs": [
        {
          "output_type": "stream",
          "name": "stdout",
          "text": [
            "[LightGBM] [Warning] Found whitespace in feature_names, replace with underlines\n",
            "[LightGBM] [Info] Number of positive: 4125, number of negative: 4153\n",
            "[LightGBM] [Info] Auto-choosing row-wise multi-threading, the overhead of testing was 0.002349 seconds.\n",
            "You can set `force_row_wise=true` to remove the overhead.\n",
            "And if memory is not enough, you can set `force_col_wise=true`.\n",
            "[LightGBM] [Info] Total Bins 657\n",
            "[LightGBM] [Info] Number of data points in the train set: 8278, number of used features: 40\n",
            "[LightGBM] [Info] [binary:BoostFromScore]: pavg=0.498309 -> initscore=-0.006765\n",
            "[LightGBM] [Info] Start training from score -0.006765\n",
            "Model:LGBMClassifier\n",
            "Accuracy: 0.8623188405797102\n",
            "Classification Report: \n",
            "               precision    recall  f1-score   support\n",
            "\n",
            "           0       0.85      0.87      0.86      1021\n",
            "           1       0.87      0.85      0.86      1049\n",
            "\n",
            "    accuracy                           0.86      2070\n",
            "   macro avg       0.86      0.86      0.86      2070\n",
            "weighted avg       0.86      0.86      0.86      2070\n",
            "\n",
            "AUC-ROC: 0.9407756465978044\n"
          ]
        },
        {
          "output_type": "display_data",
          "data": {
            "text/plain": [
              "<Figure size 640x480 with 1 Axes>"
            ],
            "image/png": "[encoded data removed]"
          },
          "metadata": {}
        }
      ]
    },
    {
      "cell_type": "code",
      "source": [
        "# 8.4 K-Nearest Neighbors(KNN)\n",
        "\n",
        "\n",
        "knn=KNeighborsClassifier()\n",
        "evaluate_model(knn, X_train, X_test, y_train, y_test)"
      ],
      "metadata": {
        "colab": {
          "base_uri": "https://localhost:8080/",
          "height": 707
        },
        "id": "bm94Dt7JT18Q",
        "outputId": "63418203-30bd-44f3-a4d5-9e83e3b7f0a8"
      },
      "execution_count": null,
      "outputs": [
        {
          "output_type": "stream",
          "name": "stdout",
          "text": [
            "Model:KNeighborsClassifier\n",
            "Accuracy: 0.7792270531400967\n",
            "Classification Report: \n",
            "               precision    recall  f1-score   support\n",
            "\n",
            "           0       0.81      0.72      0.76      1021\n",
            "           1       0.75      0.84      0.79      1049\n",
            "\n",
            "    accuracy                           0.78      2070\n",
            "   macro avg       0.78      0.78      0.78      2070\n",
            "weighted avg       0.78      0.78      0.78      2070\n",
            "\n",
            "AUC-ROC: 0.8448781498913661\n"
          ]
        },
        {
          "output_type": "display_data",
          "data": {
            "text/plain": [
              "<Figure size 640x480 with 1 Axes>"
            ],
            "image/png": "[encoded data removed]"
          },
          "metadata": {}
        }
      ]
    },
    {
      "cell_type": "code",
      "source": [
        "# 8.5 CatBoost\n",
        "\n",
        "\n",
        "catboost=CatBoostClassifier(verbose=0, random_state=42)\n",
        "evaluate_model(catboost, X_train, X_test, y_train, y_test)"
      ],
      "metadata": {
        "colab": {
          "base_uri": "https://localhost:8080/",
          "height": 707
        },
        "id": "udkYnXaCUGLQ",
        "outputId": "5f84007f-3b36-499c-cb1a-76ddbed23304"
      },
      "execution_count": null,
      "outputs": [
        {
          "output_type": "stream",
          "name": "stdout",
          "text": [
            "Model:CatBoostClassifier\n",
            "Accuracy: 0.8613526570048309\n",
            "Classification Report: \n",
            "               precision    recall  f1-score   support\n",
            "\n",
            "           0       0.85      0.87      0.86      1021\n",
            "           1       0.87      0.86      0.86      1049\n",
            "\n",
            "    accuracy                           0.86      2070\n",
            "   macro avg       0.86      0.86      0.86      2070\n",
            "weighted avg       0.86      0.86      0.86      2070\n",
            "\n",
            "AUC-ROC: 0.9417153970620777\n"
          ]
        },
        {
          "output_type": "display_data",
          "data": {
            "text/plain": [
              "<Figure size 640x480 with 1 Axes>"
            ],
            "image/png": "[encoded data removed]"
          },
          "metadata": {}
        }
      ]
    },
    {
      "cell_type": "markdown",
      "source": [
        "**9. Hyperparameter Tuning using GridSearchCV for LightGBM**"
      ],
      "metadata": {
        "id": "FY3BPccJUbfw"
      }
    },
    {
      "cell_type": "code",
      "source": [
        "param_grid={\n",
        "    'n_estimators':[100, 200, 300],\n",
        "    'max_depth': [3, 5, 7, 9],\n",
        "    'learning_rate': [0.01, 0.05, 0.1, 0.2],\n",
        "    'subsample': [0.7, 0.8, 0.9],\n",
        "    'colsample_bytree': [0.7, 0.8, 0.9]\n",
        "}\n",
        "\n",
        "# GridSearchCV\n",
        "grid_search = GridSearchCV(estimator=lgbm, param_grid=param_grid, cv=3, scoring='roc_auc', verbose=1, n_jobs=-1)\n",
        "\n",
        "# Fit on Training Data\n",
        "grid_search.fit(X_train, y_train)\n",
        "\n",
        "# Display Best Parameters and Best Score\n",
        "print(\"Best Parameters:\", grid_search.best_params_)\n",
        "print(\"Best AUC-ROC Score:\", grid_search.best_score_)\n",
        "\n",
        "# Get the Best Model\n",
        "best_lgbm = grid_search.best_estimator_\n",
        "\n",
        "# Train and Evaluate\n",
        "best_lgbm.fit(X_train, y_train)\n",
        "y_pred = best_lgbm.predict(X_test)\n",
        "y_proba = best_lgbm.predict_proba(X_test)[:, 1]\n",
        "\n",
        "#Accuracy and Classification Report\n",
        "print(\"Final Model Accuracy:\", accuracy_score(y_test, y_pred))\n",
        "print(\"Final Model Classification Report:\\n\", classification_report(y_test, y_pred))\n",
        "\n",
        "# AUC-ROC\n",
        "final_auc = roc_auc_score(y_test, y_proba)\n",
        "print(\"Final Model AUC-ROC:\", final_auc)\n",
        "\n",
        "\n",
        "# Plot ROC Curve\n",
        "fpr, tpr, thresholds = roc_curve(y_test, y_proba)\n",
        "plt.plot(fpr, tpr, label=f'LightGBM (AUC = {final_auc:.2f})')\n",
        "plt.plot([0, 1], [0, 1], linestyle='--')\n",
        "plt.xlabel('False Positive Rate')\n",
        "plt.ylabel('True Positive Rate')\n",
        "plt.title('ROC Curve')\n",
        "plt.legend()\n",
        "plt.show()\n"
      ],
      "metadata": {
        "colab": {
          "base_uri": "https://localhost:8080/",
          "height": 1000
        },
        "id": "TbDGR0rVUW5D",
        "outputId": "02129b60-04bb-4785-e330-9eb04ed50dc1"
      },
      "execution_count": null,
      "outputs": [
        {
          "output_type": "stream",
          "name": "stdout",
          "text": [
            "Fitting 3 folds for each of 432 candidates, totalling 1296 fits\n",
            "[LightGBM] [Warning] Found whitespace in feature_names, replace with underlines\n",
            "[LightGBM] [Info] Number of positive: 4125, number of negative: 4153\n",
            "[LightGBM] [Info] Auto-choosing row-wise multi-threading, the overhead of testing was 0.001228 seconds.\n",
            "You can set `force_row_wise=true` to remove the overhead.\n",
            "And if memory is not enough, you can set `force_col_wise=true`.\n",
            "[LightGBM] [Info] Total Bins 657\n",
            "[LightGBM] [Info] Number of data points in the train set: 8278, number of used features: 40\n",
            "[LightGBM] [Info] [binary:BoostFromScore]: pavg=0.498309 -> initscore=-0.006765\n",
            "[LightGBM] [Info] Start training from score -0.006765\n",
            "[LightGBM] [Warning] No further splits with positive gain, best gain: -inf\n",
            "[LightGBM] [Warning] No further splits with positive gain, best gain: -inf\n",
            "[LightGBM] [Warning] No further splits with positive gain, best gain: -inf\n",
            "[LightGBM] [Warning] No further splits with positive gain, best gain: -inf\n",
            "[LightGBM] [Warning] No further splits with positive gain, best gain: -inf\n",
            "[LightGBM] [Warning] No further splits with positive gain, best gain: -inf\n",
            "[LightGBM] [Warning] No further splits with positive gain, best gain: -inf\n",
            "[LightGBM] [Warning] No further splits with positive gain, best gain: -inf\n",
            "[LightGBM] [Warning] No further splits with positive gain, best gain: -inf\n",
            "[LightGBM] [Warning] No further splits with positive gain, best gain: -inf\n",
            "[LightGBM] [Warning] No further splits with positive gain, best gain: -inf\n",
            "[LightGBM] [Warning] No further splits with positive gain, best gain: -inf\n",
            "[LightGBM] [Warning] No further splits with positive gain, best gain: -inf\n",
            "[LightGBM] [Warning] No further splits with positive gain, best gain: -inf\n",
            "[LightGBM] [Warning] No further splits with positive gain, best gain: -inf\n",
            "[LightGBM] [Warning] No further splits with positive gain, best gain: -inf\n",
            "[LightGBM] [Warning] No further splits with positive gain, best gain: -inf\n",
            "[LightGBM] [Warning] No further splits with positive gain, best gain: -inf\n",
            "[LightGBM] [Warning] No further splits with positive gain, best gain: -inf\n",
            "[LightGBM] [Warning] No further splits with positive gain, best gain: -inf\n",
            "[LightGBM] [Warning] No further splits with positive gain, best gain: -inf\n",
            "[LightGBM] [Warning] No further splits with positive gain, best gain: -inf\n",
            "[LightGBM] [Warning] No further splits with positive gain, best gain: -inf\n",
            "[LightGBM] [Warning] No further splits with positive gain, best gain: -inf\n",
            "[LightGBM] [Warning] No further splits with positive gain, best gain: -inf\n",
            "[LightGBM] [Warning] No further splits with positive gain, best gain: -inf\n",
            "[LightGBM] [Warning] No further splits with positive gain, best gain: -inf\n",
            "[LightGBM] [Warning] No further splits with positive gain, best gain: -inf\n",
            "[LightGBM] [Warning] No further splits with positive gain, best gain: -inf\n",
            "[LightGBM] [Warning] No further splits with positive gain, best gain: -inf\n",
            "[LightGBM] [Warning] No further splits with positive gain, best gain: -inf\n",
            "[LightGBM] [Warning] No further splits with positive gain, best gain: -inf\n",
            "[LightGBM] [Warning] No further splits with positive gain, best gain: -inf\n",
            "[LightGBM] [Warning] No further splits with positive gain, best gain: -inf\n",
            "[LightGBM] [Warning] No further splits with positive gain, best gain: -inf\n",
            "[LightGBM] [Warning] No further splits with positive gain, best gain: -inf\n",
            "[LightGBM] [Warning] No further splits with positive gain, best gain: -inf\n",
            "[LightGBM] [Warning] No further splits with positive gain, best gain: -inf\n",
            "[LightGBM] [Warning] No further splits with positive gain, best gain: -inf\n",
            "[LightGBM] [Warning] No further splits with positive gain, best gain: -inf\n",
            "[LightGBM] [Warning] No further splits with positive gain, best gain: -inf\n",
            "[LightGBM] [Warning] No further splits with positive gain, best gain: -inf\n",
            "[LightGBM] [Warning] No further splits with positive gain, best gain: -inf\n",
            "[LightGBM] [Warning] No further splits with positive gain, best gain: -inf\n",
            "[LightGBM] [Warning] No further splits with positive gain, best gain: -inf\n",
            "[LightGBM] [Warning] No further splits with positive gain, best gain: -inf\n",
            "[LightGBM] [Warning] No further splits with positive gain, best gain: -inf\n",
            "[LightGBM] [Warning] No further splits with positive gain, best gain: -inf\n",
            "[LightGBM] [Warning] No further splits with positive gain, best gain: -inf\n",
            "[LightGBM] [Warning] No further splits with positive gain, best gain: -inf\n",
            "[LightGBM] [Warning] No further splits with positive gain, best gain: -inf\n",
            "[LightGBM] [Warning] No further splits with positive gain, best gain: -inf\n",
            "[LightGBM] [Warning] No further splits with positive gain, best gain: -inf\n",
            "[LightGBM] [Warning] No further splits with positive gain, best gain: -inf\n",
            "[LightGBM] [Warning] No further splits with positive gain, best gain: -inf\n",
            "[LightGBM] [Warning] No further splits with positive gain, best gain: -inf\n",
            "[LightGBM] [Warning] No further splits with positive gain, best gain: -inf\n",
            "[LightGBM] [Warning] No further splits with positive gain, best gain: -inf\n",
            "[LightGBM] [Warning] No further splits with positive gain, best gain: -inf\n",
            "[LightGBM] [Warning] No further splits with positive gain, best gain: -inf\n",
            "[LightGBM] [Warning] No further splits with positive gain, best gain: -inf\n",
            "[LightGBM] [Warning] No further splits with positive gain, best gain: -inf\n",
            "[LightGBM] [Warning] No further splits with positive gain, best gain: -inf\n",
            "[LightGBM] [Warning] No further splits with positive gain, best gain: -inf\n",
            "[LightGBM] [Warning] No further splits with positive gain, best gain: -inf\n",
            "[LightGBM] [Warning] No further splits with positive gain, best gain: -inf\n",
            "[LightGBM] [Warning] No further splits with positive gain, best gain: -inf\n",
            "[LightGBM] [Warning] No further splits with positive gain, best gain: -inf\n",
            "[LightGBM] [Warning] No further splits with positive gain, best gain: -inf\n",
            "[LightGBM] [Warning] No further splits with positive gain, best gain: -inf\n",
            "[LightGBM] [Warning] No further splits with positive gain, best gain: -inf\n",
            "[LightGBM] [Warning] No further splits with positive gain, best gain: -inf\n",
            "[LightGBM] [Warning] No further splits with positive gain, best gain: -inf\n",
            "[LightGBM] [Warning] No further splits with positive gain, best gain: -inf\n",
            "[LightGBM] [Warning] No further splits with positive gain, best gain: -inf\n",
            "[LightGBM] [Warning] No further splits with positive gain, best gain: -inf\n",
            "[LightGBM] [Warning] No further splits with positive gain, best gain: -inf\n",
            "[LightGBM] [Warning] No further splits with positive gain, best gain: -inf\n",
            "[LightGBM] [Warning] No further splits with positive gain, best gain: -inf\n",
            "[LightGBM] [Warning] No further splits with positive gain, best gain: -inf\n",
            "[LightGBM] [Warning] No further splits with positive gain, best gain: -inf\n",
            "[LightGBM] [Warning] No further splits with positive gain, best gain: -inf\n",
            "[LightGBM] [Warning] No further splits with positive gain, best gain: -inf\n",
            "[LightGBM] [Warning] No further splits with positive gain, best gain: -inf\n",
            "[LightGBM] [Warning] No further splits with positive gain, best gain: -inf\n",
            "[LightGBM] [Warning] No further splits with positive gain, best gain: -inf\n",
            "[LightGBM] [Warning] No further splits with positive gain, best gain: -inf\n",
            "[LightGBM] [Warning] No further splits with positive gain, best gain: -inf\n",
            "[LightGBM] [Warning] No further splits with positive gain, best gain: -inf\n",
            "[LightGBM] [Warning] No further splits with positive gain, best gain: -inf\n",
            "[LightGBM] [Warning] No further splits with positive gain, best gain: -inf\n",
            "[LightGBM] [Warning] No further splits with positive gain, best gain: -inf\n",
            "[LightGBM] [Warning] No further splits with positive gain, best gain: -inf\n",
            "[LightGBM] [Warning] No further splits with positive gain, best gain: -inf\n",
            "[LightGBM] [Warning] No further splits with positive gain, best gain: -inf\n",
            "[LightGBM] [Warning] No further splits with positive gain, best gain: -inf\n",
            "[LightGBM] [Warning] No further splits with positive gain, best gain: -inf\n",
            "[LightGBM] [Warning] No further splits with positive gain, best gain: -inf\n",
            "[LightGBM] [Warning] No further splits with positive gain, best gain: -inf\n",
            "[LightGBM] [Warning] No further splits with positive gain, best gain: -inf\n",
            "[LightGBM] [Warning] No further splits with positive gain, best gain: -inf\n",
            "[LightGBM] [Warning] No further splits with positive gain, best gain: -inf\n",
            "[LightGBM] [Warning] No further splits with positive gain, best gain: -inf\n",
            "[LightGBM] [Warning] No further splits with positive gain, best gain: -inf\n",
            "[LightGBM] [Warning] No further splits with positive gain, best gain: -inf\n",
            "[LightGBM] [Warning] No further splits with positive gain, best gain: -inf\n",
            "[LightGBM] [Warning] No further splits with positive gain, best gain: -inf\n",
            "[LightGBM] [Warning] No further splits with positive gain, best gain: -inf\n",
            "[LightGBM] [Warning] No further splits with positive gain, best gain: -inf\n",
            "[LightGBM] [Warning] No further splits with positive gain, best gain: -inf\n",
            "[LightGBM] [Warning] No further splits with positive gain, best gain: -inf\n",
            "[LightGBM] [Warning] No further splits with positive gain, best gain: -inf\n",
            "[LightGBM] [Warning] No further splits with positive gain, best gain: -inf\n",
            "[LightGBM] [Warning] No further splits with positive gain, best gain: -inf\n",
            "[LightGBM] [Warning] No further splits with positive gain, best gain: -inf\n",
            "[LightGBM] [Warning] No further splits with positive gain, best gain: -inf\n",
            "[LightGBM] [Warning] No further splits with positive gain, best gain: -inf\n",
            "[LightGBM] [Warning] No further splits with positive gain, best gain: -inf\n",
            "[LightGBM] [Warning] No further splits with positive gain, best gain: -inf\n",
            "[LightGBM] [Warning] No further splits with positive gain, best gain: -inf\n",
            "[LightGBM] [Warning] No further splits with positive gain, best gain: -inf\n",
            "[LightGBM] [Warning] No further splits with positive gain, best gain: -inf\n",
            "[LightGBM] [Warning] No further splits with positive gain, best gain: -inf\n",
            "[LightGBM] [Warning] No further splits with positive gain, best gain: -inf\n",
            "[LightGBM] [Warning] No further splits with positive gain, best gain: -inf\n",
            "[LightGBM] [Warning] No further splits with positive gain, best gain: -inf\n",
            "[LightGBM] [Warning] No further splits with positive gain, best gain: -inf\n",
            "[LightGBM] [Warning] No further splits with positive gain, best gain: -inf\n",
            "[LightGBM] [Warning] No further splits with positive gain, best gain: -inf\n",
            "[LightGBM] [Warning] No further splits with positive gain, best gain: -inf\n",
            "[LightGBM] [Warning] No further splits with positive gain, best gain: -inf\n",
            "[LightGBM] [Warning] No further splits with positive gain, best gain: -inf\n",
            "[LightGBM] [Warning] No further splits with positive gain, best gain: -inf\n",
            "[LightGBM] [Warning] No further splits with positive gain, best gain: -inf\n",
            "[LightGBM] [Warning] No further splits with positive gain, best gain: -inf\n",
            "[LightGBM] [Warning] No further splits with positive gain, best gain: -inf\n",
            "[LightGBM] [Warning] No further splits with positive gain, best gain: -inf\n",
            "[LightGBM] [Warning] No further splits with positive gain, best gain: -inf\n",
            "[LightGBM] [Warning] No further splits with positive gain, best gain: -inf\n",
            "[LightGBM] [Warning] No further splits with positive gain, best gain: -inf\n",
            "[LightGBM] [Warning] No further splits with positive gain, best gain: -inf\n",
            "[LightGBM] [Warning] No further splits with positive gain, best gain: -inf\n",
            "[LightGBM] [Warning] No further splits with positive gain, best gain: -inf\n",
            "[LightGBM] [Warning] No further splits with positive gain, best gain: -inf\n",
            "[LightGBM] [Warning] No further splits with positive gain, best gain: -inf\n",
            "[LightGBM] [Warning] No further splits with positive gain, best gain: -inf\n",
            "[LightGBM] [Warning] No further splits with positive gain, best gain: -inf\n",
            "[LightGBM] [Warning] No further splits with positive gain, best gain: -inf\n",
            "[LightGBM] [Warning] No further splits with positive gain, best gain: -inf\n",
            "[LightGBM] [Warning] No further splits with positive gain, best gain: -inf\n",
            "[LightGBM] [Warning] No further splits with positive gain, best gain: -inf\n",
            "[LightGBM] [Warning] No further splits with positive gain, best gain: -inf\n",
            "[LightGBM] [Warning] No further splits with positive gain, best gain: -inf\n",
            "[LightGBM] [Warning] No further splits with positive gain, best gain: -inf\n",
            "[LightGBM] [Warning] No further splits with positive gain, best gain: -inf\n",
            "[LightGBM] [Warning] No further splits with positive gain, best gain: -inf\n",
            "[LightGBM] [Warning] No further splits with positive gain, best gain: -inf\n",
            "[LightGBM] [Warning] No further splits with positive gain, best gain: -inf\n",
            "[LightGBM] [Warning] No further splits with positive gain, best gain: -inf\n",
            "[LightGBM] [Warning] No further splits with positive gain, best gain: -inf\n",
            "[LightGBM] [Warning] No further splits with positive gain, best gain: -inf\n",
            "[LightGBM] [Warning] No further splits with positive gain, best gain: -inf\n",
            "[LightGBM] [Warning] No further splits with positive gain, best gain: -inf\n",
            "[LightGBM] [Warning] No further splits with positive gain, best gain: -inf\n",
            "[LightGBM] [Warning] No further splits with positive gain, best gain: -inf\n",
            "[LightGBM] [Warning] No further splits with positive gain, best gain: -inf\n",
            "[LightGBM] [Warning] No further splits with positive gain, best gain: -inf\n",
            "[LightGBM] [Warning] No further splits with positive gain, best gain: -inf\n",
            "[LightGBM] [Warning] No further splits with positive gain, best gain: -inf\n",
            "[LightGBM] [Warning] No further splits with positive gain, best gain: -inf\n",
            "[LightGBM] [Warning] No further splits with positive gain, best gain: -inf\n",
            "[LightGBM] [Warning] No further splits with positive gain, best gain: -inf\n",
            "[LightGBM] [Warning] No further splits with positive gain, best gain: -inf\n",
            "[LightGBM] [Warning] No further splits with positive gain, best gain: -inf\n",
            "[LightGBM] [Warning] No further splits with positive gain, best gain: -inf\n",
            "[LightGBM] [Warning] No further splits with positive gain, best gain: -inf\n",
            "[LightGBM] [Warning] No further splits with positive gain, best gain: -inf\n",
            "[LightGBM] [Warning] No further splits with positive gain, best gain: -inf\n",
            "[LightGBM] [Warning] No further splits with positive gain, best gain: -inf\n",
            "[LightGBM] [Warning] No further splits with positive gain, best gain: -inf\n",
            "[LightGBM] [Warning] No further splits with positive gain, best gain: -inf\n",
            "[LightGBM] [Warning] No further splits with positive gain, best gain: -inf\n",
            "[LightGBM] [Warning] No further splits with positive gain, best gain: -inf\n",
            "[LightGBM] [Warning] No further splits with positive gain, best gain: -inf\n",
            "[LightGBM] [Warning] No further splits with positive gain, best gain: -inf\n",
            "[LightGBM] [Warning] No further splits with positive gain, best gain: -inf\n",
            "[LightGBM] [Warning] No further splits with positive gain, best gain: -inf\n",
            "[LightGBM] [Warning] No further splits with positive gain, best gain: -inf\n",
            "[LightGBM] [Warning] No further splits with positive gain, best gain: -inf\n",
            "[LightGBM] [Warning] No further splits with positive gain, best gain: -inf\n",
            "[LightGBM] [Warning] No further splits with positive gain, best gain: -inf\n",
            "[LightGBM] [Warning] No further splits with positive gain, best gain: -inf\n",
            "[LightGBM] [Warning] No further splits with positive gain, best gain: -inf\n",
            "[LightGBM] [Warning] No further splits with positive gain, best gain: -inf\n",
            "[LightGBM] [Warning] No further splits with positive gain, best gain: -inf\n",
            "[LightGBM] [Warning] No further splits with positive gain, best gain: -inf\n",
            "[LightGBM] [Warning] No further splits with positive gain, best gain: -inf\n",
            "[LightGBM] [Warning] No further splits with positive gain, best gain: -inf\n",
            "[LightGBM] [Warning] No further splits with positive gain, best gain: -inf\n",
            "[LightGBM] [Warning] No further splits with positive gain, best gain: -inf\n",
            "[LightGBM] [Warning] No further splits with positive gain, best gain: -inf\n",
            "[LightGBM] [Warning] No further splits with positive gain, best gain: -inf\n",
            "[LightGBM] [Warning] No further splits with positive gain, best gain: -inf\n",
            "[LightGBM] [Warning] No further splits with positive gain, best gain: -inf\n",
            "[LightGBM] [Warning] No further splits with positive gain, best gain: -inf\n",
            "[LightGBM] [Warning] No further splits with positive gain, best gain: -inf\n",
            "[LightGBM] [Warning] No further splits with positive gain, best gain: -inf\n",
            "[LightGBM] [Warning] No further splits with positive gain, best gain: -inf\n",
            "[LightGBM] [Warning] No further splits with positive gain, best gain: -inf\n",
            "[LightGBM] [Warning] No further splits with positive gain, best gain: -inf\n",
            "[LightGBM] [Warning] No further splits with positive gain, best gain: -inf\n",
            "[LightGBM] [Warning] No further splits with positive gain, best gain: -inf\n",
            "[LightGBM] [Warning] No further splits with positive gain, best gain: -inf\n",
            "[LightGBM] [Warning] No further splits with positive gain, best gain: -inf\n",
            "[LightGBM] [Warning] No further splits with positive gain, best gain: -inf\n",
            "[LightGBM] [Warning] No further splits with positive gain, best gain: -inf\n",
            "[LightGBM] [Warning] No further splits with positive gain, best gain: -inf\n",
            "[LightGBM] [Warning] No further splits with positive gain, best gain: -inf\n",
            "[LightGBM] [Warning] No further splits with positive gain, best gain: -inf\n",
            "[LightGBM] [Warning] No further splits with positive gain, best gain: -inf\n",
            "[LightGBM] [Warning] No further splits with positive gain, best gain: -inf\n",
            "[LightGBM] [Warning] No further splits with positive gain, best gain: -inf\n",
            "[LightGBM] [Warning] No further splits with positive gain, best gain: -inf\n",
            "[LightGBM] [Warning] No further splits with positive gain, best gain: -inf\n",
            "[LightGBM] [Warning] No further splits with positive gain, best gain: -inf\n",
            "[LightGBM] [Warning] No further splits with positive gain, best gain: -inf\n",
            "[LightGBM] [Warning] No further splits with positive gain, best gain: -inf\n",
            "[LightGBM] [Warning] No further splits with positive gain, best gain: -inf\n",
            "[LightGBM] [Warning] No further splits with positive gain, best gain: -inf\n",
            "[LightGBM] [Warning] No further splits with positive gain, best gain: -inf\n",
            "[LightGBM] [Warning] No further splits with positive gain, best gain: -inf\n",
            "[LightGBM] [Warning] No further splits with positive gain, best gain: -inf\n",
            "[LightGBM] [Warning] No further splits with positive gain, best gain: -inf\n",
            "[LightGBM] [Warning] No further splits with positive gain, best gain: -inf\n",
            "[LightGBM] [Warning] No further splits with positive gain, best gain: -inf\n",
            "[LightGBM] [Warning] No further splits with positive gain, best gain: -inf\n",
            "[LightGBM] [Warning] No further splits with positive gain, best gain: -inf\n",
            "[LightGBM] [Warning] No further splits with positive gain, best gain: -inf\n",
            "[LightGBM] [Warning] No further splits with positive gain, best gain: -inf\n",
            "[LightGBM] [Warning] No further splits with positive gain, best gain: -inf\n",
            "[LightGBM] [Warning] No further splits with positive gain, best gain: -inf\n",
            "[LightGBM] [Warning] No further splits with positive gain, best gain: -inf\n",
            "[LightGBM] [Warning] No further splits with positive gain, best gain: -inf\n",
            "[LightGBM] [Warning] No further splits with positive gain, best gain: -inf\n",
            "[LightGBM] [Warning] No further splits with positive gain, best gain: -inf\n",
            "[LightGBM] [Warning] No further splits with positive gain, best gain: -inf\n",
            "[LightGBM] [Warning] No further splits with positive gain, best gain: -inf\n",
            "[LightGBM] [Warning] No further splits with positive gain, best gain: -inf\n",
            "[LightGBM] [Warning] No further splits with positive gain, best gain: -inf\n",
            "[LightGBM] [Warning] No further splits with positive gain, best gain: -inf\n",
            "[LightGBM] [Warning] No further splits with positive gain, best gain: -inf\n",
            "[LightGBM] [Warning] No further splits with positive gain, best gain: -inf\n",
            "[LightGBM] [Warning] No further splits with positive gain, best gain: -inf\n",
            "Best Parameters: {'colsample_bytree': 0.9, 'learning_rate': 0.05, 'max_depth': 5, 'n_estimators': 300, 'subsample': 0.7}\n",
            "Best AUC-ROC Score: 0.9401907118597338\n",
            "[LightGBM] [Warning] Found whitespace in feature_names, replace with underlines\n",
            "[LightGBM] [Info] Number of positive: 4125, number of negative: 4153\n",
            "[LightGBM] [Info] Auto-choosing row-wise multi-threading, the overhead of testing was 0.001293 seconds.\n",
            "You can set `force_row_wise=true` to remove the overhead.\n",
            "And if memory is not enough, you can set `force_col_wise=true`.\n",
            "[LightGBM] [Info] Total Bins 657\n",
            "[LightGBM] [Info] Number of data points in the train set: 8278, number of used features: 40\n",
            "[LightGBM] [Info] [binary:BoostFromScore]: pavg=0.498309 -> initscore=-0.006765\n",
            "[LightGBM] [Info] Start training from score -0.006765\n",
            "[LightGBM] [Warning] No further splits with positive gain, best gain: -inf\n",
            "[LightGBM] [Warning] No further splits with positive gain, best gain: -inf\n",
            "[LightGBM] [Warning] No further splits with positive gain, best gain: -inf\n",
            "[LightGBM] [Warning] No further splits with positive gain, best gain: -inf\n",
            "[LightGBM] [Warning] No further splits with positive gain, best gain: -inf\n",
            "[LightGBM] [Warning] No further splits with positive gain, best gain: -inf\n",
            "[LightGBM] [Warning] No further splits with positive gain, best gain: -inf\n",
            "[LightGBM] [Warning] No further splits with positive gain, best gain: -inf\n",
            "[LightGBM] [Warning] No further splits with positive gain, best gain: -inf\n",
            "[LightGBM] [Warning] No further splits with positive gain, best gain: -inf\n",
            "[LightGBM] [Warning] No further splits with positive gain, best gain: -inf\n",
            "[LightGBM] [Warning] No further splits with positive gain, best gain: -inf\n",
            "[LightGBM] [Warning] No further splits with positive gain, best gain: -inf\n",
            "[LightGBM] [Warning] No further splits with positive gain, best gain: -inf\n",
            "[LightGBM] [Warning] No further splits with positive gain, best gain: -inf\n",
            "[LightGBM] [Warning] No further splits with positive gain, best gain: -inf\n",
            "[LightGBM] [Warning] No further splits with positive gain, best gain: -inf\n",
            "[LightGBM] [Warning] No further splits with positive gain, best gain: -inf\n",
            "[LightGBM] [Warning] No further splits with positive gain, best gain: -inf\n",
            "[LightGBM] [Warning] No further splits with positive gain, best gain: -inf\n",
            "[LightGBM] [Warning] No further splits with positive gain, best gain: -inf\n",
            "[LightGBM] [Warning] No further splits with positive gain, best gain: -inf\n",
            "[LightGBM] [Warning] No further splits with positive gain, best gain: -inf\n",
            "[LightGBM] [Warning] No further splits with positive gain, best gain: -inf\n",
            "[LightGBM] [Warning] No further splits with positive gain, best gain: -inf\n",
            "[LightGBM] [Warning] No further splits with positive gain, best gain: -inf\n",
            "[LightGBM] [Warning] No further splits with positive gain, best gain: -inf\n",
            "[LightGBM] [Warning] No further splits with positive gain, best gain: -inf\n",
            "[LightGBM] [Warning] No further splits with positive gain, best gain: -inf\n",
            "[LightGBM] [Warning] No further splits with positive gain, best gain: -inf\n",
            "[LightGBM] [Warning] No further splits with positive gain, best gain: -inf\n",
            "[LightGBM] [Warning] No further splits with positive gain, best gain: -inf\n",
            "[LightGBM] [Warning] No further splits with positive gain, best gain: -inf\n",
            "[LightGBM] [Warning] No further splits with positive gain, best gain: -inf\n",
            "[LightGBM] [Warning] No further splits with positive gain, best gain: -inf\n",
            "[LightGBM] [Warning] No further splits with positive gain, best gain: -inf\n",
            "[LightGBM] [Warning] No further splits with positive gain, best gain: -inf\n",
            "[LightGBM] [Warning] No further splits with positive gain, best gain: -inf\n",
            "[LightGBM] [Warning] No further splits with positive gain, best gain: -inf\n",
            "[LightGBM] [Warning] No further splits with positive gain, best gain: -inf\n",
            "[LightGBM] [Warning] No further splits with positive gain, best gain: -inf\n",
            "[LightGBM] [Warning] No further splits with positive gain, best gain: -inf\n",
            "[LightGBM] [Warning] No further splits with positive gain, best gain: -inf\n",
            "[LightGBM] [Warning] No further splits with positive gain, best gain: -inf\n",
            "[LightGBM] [Warning] No further splits with positive gain, best gain: -inf\n",
            "[LightGBM] [Warning] No further splits with positive gain, best gain: -inf\n",
            "[LightGBM] [Warning] No further splits with positive gain, best gain: -inf\n",
            "[LightGBM] [Warning] No further splits with positive gain, best gain: -inf\n",
            "[LightGBM] [Warning] No further splits with positive gain, best gain: -inf\n",
            "[LightGBM] [Warning] No further splits with positive gain, best gain: -inf\n",
            "[LightGBM] [Warning] No further splits with positive gain, best gain: -inf\n",
            "[LightGBM] [Warning] No further splits with positive gain, best gain: -inf\n",
            "[LightGBM] [Warning] No further splits with positive gain, best gain: -inf\n",
            "[LightGBM] [Warning] No further splits with positive gain, best gain: -inf\n",
            "[LightGBM] [Warning] No further splits with positive gain, best gain: -inf\n",
            "[LightGBM] [Warning] No further splits with positive gain, best gain: -inf\n",
            "[LightGBM] [Warning] No further splits with positive gain, best gain: -inf\n",
            "[LightGBM] [Warning] No further splits with positive gain, best gain: -inf\n",
            "[LightGBM] [Warning] No further splits with positive gain, best gain: -inf\n",
            "[LightGBM] [Warning] No further splits with positive gain, best gain: -inf\n",
            "[LightGBM] [Warning] No further splits with positive gain, best gain: -inf\n",
            "[LightGBM] [Warning] No further splits with positive gain, best gain: -inf\n",
            "[LightGBM] [Warning] No further splits with positive gain, best gain: -inf\n",
            "[LightGBM] [Warning] No further splits with positive gain, best gain: -inf\n",
            "[LightGBM] [Warning] No further splits with positive gain, best gain: -inf\n",
            "[LightGBM] [Warning] No further splits with positive gain, best gain: -inf\n",
            "[LightGBM] [Warning] No further splits with positive gain, best gain: -inf\n",
            "[LightGBM] [Warning] No further splits with positive gain, best gain: -inf\n",
            "[LightGBM] [Warning] No further splits with positive gain, best gain: -inf\n",
            "[LightGBM] [Warning] No further splits with positive gain, best gain: -inf\n",
            "[LightGBM] [Warning] No further splits with positive gain, best gain: -inf\n",
            "[LightGBM] [Warning] No further splits with positive gain, best gain: -inf\n",
            "[LightGBM] [Warning] No further splits with positive gain, best gain: -inf\n",
            "[LightGBM] [Warning] No further splits with positive gain, best gain: -inf\n",
            "[LightGBM] [Warning] No further splits with positive gain, best gain: -inf\n",
            "[LightGBM] [Warning] No further splits with positive gain, best gain: -inf\n",
            "[LightGBM] [Warning] No further splits with positive gain, best gain: -inf\n",
            "[LightGBM] [Warning] No further splits with positive gain, best gain: -inf\n",
            "[LightGBM] [Warning] No further splits with positive gain, best gain: -inf\n",
            "[LightGBM] [Warning] No further splits with positive gain, best gain: -inf\n",
            "[LightGBM] [Warning] No further splits with positive gain, best gain: -inf\n",
            "[LightGBM] [Warning] No further splits with positive gain, best gain: -inf\n",
            "[LightGBM] [Warning] No further splits with positive gain, best gain: -inf\n",
            "[LightGBM] [Warning] No further splits with positive gain, best gain: -inf\n",
            "[LightGBM] [Warning] No further splits with positive gain, best gain: -inf\n",
            "[LightGBM] [Warning] No further splits with positive gain, best gain: -inf\n",
            "[LightGBM] [Warning] No further splits with positive gain, best gain: -inf\n",
            "[LightGBM] [Warning] No further splits with positive gain, best gain: -inf\n",
            "[LightGBM] [Warning] No further splits with positive gain, best gain: -inf\n",
            "[LightGBM] [Warning] No further splits with positive gain, best gain: -inf\n",
            "[LightGBM] [Warning] No further splits with positive gain, best gain: -inf\n",
            "[LightGBM] [Warning] No further splits with positive gain, best gain: -inf\n",
            "[LightGBM] [Warning] No further splits with positive gain, best gain: -inf\n",
            "[LightGBM] [Warning] No further splits with positive gain, best gain: -inf\n",
            "[LightGBM] [Warning] No further splits with positive gain, best gain: -inf\n",
            "[LightGBM] [Warning] No further splits with positive gain, best gain: -inf\n",
            "[LightGBM] [Warning] No further splits with positive gain, best gain: -inf\n",
            "[LightGBM] [Warning] No further splits with positive gain, best gain: -inf\n",
            "[LightGBM] [Warning] No further splits with positive gain, best gain: -inf\n",
            "[LightGBM] [Warning] No further splits with positive gain, best gain: -inf\n",
            "[LightGBM] [Warning] No further splits with positive gain, best gain: -inf\n",
            "[LightGBM] [Warning] No further splits with positive gain, best gain: -inf\n",
            "[LightGBM] [Warning] No further splits with positive gain, best gain: -inf\n",
            "[LightGBM] [Warning] No further splits with positive gain, best gain: -inf\n",
            "[LightGBM] [Warning] No further splits with positive gain, best gain: -inf\n",
            "[LightGBM] [Warning] No further splits with positive gain, best gain: -inf\n",
            "[LightGBM] [Warning] No further splits with positive gain, best gain: -inf\n",
            "[LightGBM] [Warning] No further splits with positive gain, best gain: -inf\n",
            "[LightGBM] [Warning] No further splits with positive gain, best gain: -inf\n",
            "[LightGBM] [Warning] No further splits with positive gain, best gain: -inf\n",
            "[LightGBM] [Warning] No further splits with positive gain, best gain: -inf\n",
            "[LightGBM] [Warning] No further splits with positive gain, best gain: -inf\n",
            "[LightGBM] [Warning] No further splits with positive gain, best gain: -inf\n",
            "[LightGBM] [Warning] No further splits with positive gain, best gain: -inf\n",
            "[LightGBM] [Warning] No further splits with positive gain, best gain: -inf\n",
            "[LightGBM] [Warning] No further splits with positive gain, best gain: -inf\n",
            "[LightGBM] [Warning] No further splits with positive gain, best gain: -inf\n",
            "[LightGBM] [Warning] No further splits with positive gain, best gain: -inf\n",
            "[LightGBM] [Warning] No further splits with positive gain, best gain: -inf\n",
            "[LightGBM] [Warning] No further splits with positive gain, best gain: -inf\n",
            "[LightGBM] [Warning] No further splits with positive gain, best gain: -inf\n",
            "[LightGBM] [Warning] No further splits with positive gain, best gain: -inf\n",
            "[LightGBM] [Warning] No further splits with positive gain, best gain: -inf\n",
            "[LightGBM] [Warning] No further splits with positive gain, best gain: -inf\n",
            "[LightGBM] [Warning] No further splits with positive gain, best gain: -inf\n",
            "[LightGBM] [Warning] No further splits with positive gain, best gain: -inf\n",
            "[LightGBM] [Warning] No further splits with positive gain, best gain: -inf\n",
            "[LightGBM] [Warning] No further splits with positive gain, best gain: -inf\n",
            "[LightGBM] [Warning] No further splits with positive gain, best gain: -inf\n",
            "[LightGBM] [Warning] No further splits with positive gain, best gain: -inf\n",
            "[LightGBM] [Warning] No further splits with positive gain, best gain: -inf\n",
            "[LightGBM] [Warning] No further splits with positive gain, best gain: -inf\n",
            "[LightGBM] [Warning] No further splits with positive gain, best gain: -inf\n",
            "[LightGBM] [Warning] No further splits with positive gain, best gain: -inf\n",
            "[LightGBM] [Warning] No further splits with positive gain, best gain: -inf\n",
            "[LightGBM] [Warning] No further splits with positive gain, best gain: -inf\n",
            "[LightGBM] [Warning] No further splits with positive gain, best gain: -inf\n",
            "[LightGBM] [Warning] No further splits with positive gain, best gain: -inf\n",
            "[LightGBM] [Warning] No further splits with positive gain, best gain: -inf\n",
            "[LightGBM] [Warning] No further splits with positive gain, best gain: -inf\n",
            "[LightGBM] [Warning] No further splits with positive gain, best gain: -inf\n",
            "[LightGBM] [Warning] No further splits with positive gain, best gain: -inf\n",
            "[LightGBM] [Warning] No further splits with positive gain, best gain: -inf\n",
            "[LightGBM] [Warning] No further splits with positive gain, best gain: -inf\n",
            "[LightGBM] [Warning] No further splits with positive gain, best gain: -inf\n",
            "[LightGBM] [Warning] No further splits with positive gain, best gain: -inf\n",
            "[LightGBM] [Warning] No further splits with positive gain, best gain: -inf\n",
            "[LightGBM] [Warning] No further splits with positive gain, best gain: -inf\n",
            "[LightGBM] [Warning] No further splits with positive gain, best gain: -inf\n",
            "[LightGBM] [Warning] No further splits with positive gain, best gain: -inf\n",
            "[LightGBM] [Warning] No further splits with positive gain, best gain: -inf\n",
            "[LightGBM] [Warning] No further splits with positive gain, best gain: -inf\n",
            "[LightGBM] [Warning] No further splits with positive gain, best gain: -inf\n",
            "[LightGBM] [Warning] No further splits with positive gain, best gain: -inf\n",
            "[LightGBM] [Warning] No further splits with positive gain, best gain: -inf\n",
            "[LightGBM] [Warning] No further splits with positive gain, best gain: -inf\n",
            "[LightGBM] [Warning] No further splits with positive gain, best gain: -inf\n",
            "[LightGBM] [Warning] No further splits with positive gain, best gain: -inf\n",
            "[LightGBM] [Warning] No further splits with positive gain, best gain: -inf\n",
            "[LightGBM] [Warning] No further splits with positive gain, best gain: -inf\n",
            "[LightGBM] [Warning] No further splits with positive gain, best gain: -inf\n",
            "[LightGBM] [Warning] No further splits with positive gain, best gain: -inf\n",
            "[LightGBM] [Warning] No further splits with positive gain, best gain: -inf\n",
            "[LightGBM] [Warning] No further splits with positive gain, best gain: -inf\n",
            "[LightGBM] [Warning] No further splits with positive gain, best gain: -inf\n",
            "[LightGBM] [Warning] No further splits with positive gain, best gain: -inf\n",
            "[LightGBM] [Warning] No further splits with positive gain, best gain: -inf\n",
            "[LightGBM] [Warning] No further splits with positive gain, best gain: -inf\n",
            "[LightGBM] [Warning] No further splits with positive gain, best gain: -inf\n",
            "[LightGBM] [Warning] No further splits with positive gain, best gain: -inf\n",
            "[LightGBM] [Warning] No further splits with positive gain, best gain: -inf\n",
            "[LightGBM] [Warning] No further splits with positive gain, best gain: -inf\n",
            "[LightGBM] [Warning] No further splits with positive gain, best gain: -inf\n",
            "[LightGBM] [Warning] No further splits with positive gain, best gain: -inf\n",
            "[LightGBM] [Warning] No further splits with positive gain, best gain: -inf\n",
            "[LightGBM] [Warning] No further splits with positive gain, best gain: -inf\n",
            "[LightGBM] [Warning] No further splits with positive gain, best gain: -inf\n",
            "[LightGBM] [Warning] No further splits with positive gain, best gain: -inf\n",
            "[LightGBM] [Warning] No further splits with positive gain, best gain: -inf\n",
            "[LightGBM] [Warning] No further splits with positive gain, best gain: -inf\n",
            "[LightGBM] [Warning] No further splits with positive gain, best gain: -inf\n",
            "[LightGBM] [Warning] No further splits with positive gain, best gain: -inf\n",
            "[LightGBM] [Warning] No further splits with positive gain, best gain: -inf\n",
            "[LightGBM] [Warning] No further splits with positive gain, best gain: -inf\n",
            "[LightGBM] [Warning] No further splits with positive gain, best gain: -inf\n",
            "[LightGBM] [Warning] No further splits with positive gain, best gain: -inf\n",
            "[LightGBM] [Warning] No further splits with positive gain, best gain: -inf\n",
            "[LightGBM] [Warning] No further splits with positive gain, best gain: -inf\n",
            "[LightGBM] [Warning] No further splits with positive gain, best gain: -inf\n",
            "[LightGBM] [Warning] No further splits with positive gain, best gain: -inf\n",
            "[LightGBM] [Warning] No further splits with positive gain, best gain: -inf\n",
            "[LightGBM] [Warning] No further splits with positive gain, best gain: -inf\n",
            "[LightGBM] [Warning] No further splits with positive gain, best gain: -inf\n",
            "[LightGBM] [Warning] No further splits with positive gain, best gain: -inf\n",
            "[LightGBM] [Warning] No further splits with positive gain, best gain: -inf\n",
            "[LightGBM] [Warning] No further splits with positive gain, best gain: -inf\n",
            "[LightGBM] [Warning] No further splits with positive gain, best gain: -inf\n",
            "[LightGBM] [Warning] No further splits with positive gain, best gain: -inf\n",
            "[LightGBM] [Warning] No further splits with positive gain, best gain: -inf\n",
            "[LightGBM] [Warning] No further splits with positive gain, best gain: -inf\n",
            "[LightGBM] [Warning] No further splits with positive gain, best gain: -inf\n",
            "[LightGBM] [Warning] No further splits with positive gain, best gain: -inf\n",
            "[LightGBM] [Warning] No further splits with positive gain, best gain: -inf\n",
            "[LightGBM] [Warning] No further splits with positive gain, best gain: -inf\n",
            "[LightGBM] [Warning] No further splits with positive gain, best gain: -inf\n",
            "[LightGBM] [Warning] No further splits with positive gain, best gain: -inf\n",
            "[LightGBM] [Warning] No further splits with positive gain, best gain: -inf\n",
            "[LightGBM] [Warning] No further splits with positive gain, best gain: -inf\n",
            "[LightGBM] [Warning] No further splits with positive gain, best gain: -inf\n",
            "[LightGBM] [Warning] No further splits with positive gain, best gain: -inf\n",
            "[LightGBM] [Warning] No further splits with positive gain, best gain: -inf\n",
            "[LightGBM] [Warning] No further splits with positive gain, best gain: -inf\n",
            "[LightGBM] [Warning] No further splits with positive gain, best gain: -inf\n",
            "[LightGBM] [Warning] No further splits with positive gain, best gain: -inf\n",
            "[LightGBM] [Warning] No further splits with positive gain, best gain: -inf\n",
            "[LightGBM] [Warning] No further splits with positive gain, best gain: -inf\n",
            "[LightGBM] [Warning] No further splits with positive gain, best gain: -inf\n",
            "[LightGBM] [Warning] No further splits with positive gain, best gain: -inf\n",
            "[LightGBM] [Warning] No further splits with positive gain, best gain: -inf\n",
            "[LightGBM] [Warning] No further splits with positive gain, best gain: -inf\n",
            "[LightGBM] [Warning] No further splits with positive gain, best gain: -inf\n",
            "[LightGBM] [Warning] No further splits with positive gain, best gain: -inf\n",
            "[LightGBM] [Warning] No further splits with positive gain, best gain: -inf\n",
            "[LightGBM] [Warning] No further splits with positive gain, best gain: -inf\n",
            "[LightGBM] [Warning] No further splits with positive gain, best gain: -inf\n",
            "[LightGBM] [Warning] No further splits with positive gain, best gain: -inf\n",
            "[LightGBM] [Warning] No further splits with positive gain, best gain: -inf\n",
            "[LightGBM] [Warning] No further splits with positive gain, best gain: -inf\n",
            "[LightGBM] [Warning] No further splits with positive gain, best gain: -inf\n",
            "[LightGBM] [Warning] No further splits with positive gain, best gain: -inf\n",
            "[LightGBM] [Warning] No further splits with positive gain, best gain: -inf\n",
            "[LightGBM] [Warning] No further splits with positive gain, best gain: -inf\n",
            "[LightGBM] [Warning] No further splits with positive gain, best gain: -inf\n",
            "[LightGBM] [Warning] No further splits with positive gain, best gain: -inf\n",
            "[LightGBM] [Warning] No further splits with positive gain, best gain: -inf\n",
            "[LightGBM] [Warning] No further splits with positive gain, best gain: -inf\n",
            "[LightGBM] [Warning] No further splits with positive gain, best gain: -inf\n",
            "[LightGBM] [Warning] No further splits with positive gain, best gain: -inf\n",
            "[LightGBM] [Warning] No further splits with positive gain, best gain: -inf\n",
            "[LightGBM] [Warning] No further splits with positive gain, best gain: -inf\n",
            "[LightGBM] [Warning] No further splits with positive gain, best gain: -inf\n",
            "[LightGBM] [Warning] No further splits with positive gain, best gain: -inf\n",
            "[LightGBM] [Warning] No further splits with positive gain, best gain: -inf\n",
            "[LightGBM] [Warning] No further splits with positive gain, best gain: -inf\n",
            "[LightGBM] [Warning] No further splits with positive gain, best gain: -inf\n",
            "[LightGBM] [Warning] No further splits with positive gain, best gain: -inf\n",
            "[LightGBM] [Warning] No further splits with positive gain, best gain: -inf\n",
            "[LightGBM] [Warning] No further splits with positive gain, best gain: -inf\n",
            "[LightGBM] [Warning] No further splits with positive gain, best gain: -inf\n",
            "[LightGBM] [Warning] No further splits with positive gain, best gain: -inf\n",
            "[LightGBM] [Warning] No further splits with positive gain, best gain: -inf\n",
            "[LightGBM] [Warning] No further splits with positive gain, best gain: -inf\n",
            "[LightGBM] [Warning] No further splits with positive gain, best gain: -inf\n",
            "Final Model Accuracy: 0.8603864734299517\n",
            "Final Model Classification Report:\n",
            "               precision    recall  f1-score   support\n",
            "\n",
            "           0       0.85      0.87      0.86      1021\n",
            "           1       0.87      0.86      0.86      1049\n",
            "\n",
            "    accuracy                           0.86      2070\n",
            "   macro avg       0.86      0.86      0.86      2070\n",
            "weighted avg       0.86      0.86      0.86      2070\n",
            "\n",
            "Final Model AUC-ROC: 0.9409927275545293\n"
          ]
        },
        {
          "output_type": "display_data",
          "data": {
            "text/plain": [
              "<Figure size 640x480 with 1 Axes>"
            ],
            "image/png": "[encoded data removed]"
          },
          "metadata": {}
        }
      ]
    },
    {
      "cell_type": "markdown",
      "source": [
        "**10. Hyperparameter Tuning for CatBoost**"
      ],
      "metadata": {
        "id": "GZCHdF2ubXFi"
      }
    },
    {
      "cell_type": "code",
      "source": [
        "'''param_grid = {\n",
        "    'iterations': [500, 1000, 1500],\n",
        "    'learning_rate': [0.01, 0.05, 0.1],\n",
        "    'depth': [4, 6, 8, 10],\n",
        "    'l2_leaf_reg': [1, 3, 5, 7],\n",
        "    'subsample': [0.6, 0.8, 1.0]\n",
        "}'''\n",
        "\n",
        "param_grid={\n",
        "    'iterations': [500, 1000],\n",
        "    'learning_rate': [0.01, 0.05, 0.1],\n",
        "    'depth': [6, 8, 10],\n",
        "    'l2_leaf_reg': [3, 5],\n",
        "    'subsample': [0.8, 1.0]\n",
        " }\n",
        "\n",
        "# GridSearchCV\n",
        "grid_search = GridSearchCV(estimator=catboost,\n",
        "                           param_grid=param_grid,\n",
        "                           cv=3,\n",
        "                           scoring='roc_auc',\n",
        "                           verbose=1,\n",
        "                           n_jobs=-1)\n",
        "\n",
        "# Fit on Training Data\n",
        "grid_search.fit(X_train, y_train)\n",
        "\n",
        "# Display Best Parameters and Best Score\n",
        "print(\"Best Parameters:\", grid_search.best_params_)\n",
        "print(\"Best AUC-ROC Score:\", grid_search.best_score_)"
      ],
      "metadata": {
        "colab": {
          "base_uri": "https://localhost:8080/"
        },
        "id": "r0bhDWToV9S9",
        "outputId": "310970a1-6cb9-44af-e667-ade5af5e17f4"
      },
      "execution_count": null,
      "outputs": [
        {
          "output_type": "stream",
          "name": "stdout",
          "text": [
            "Fitting 3 folds for each of 72 candidates, totalling 216 fits\n",
            "Best Parameters: {'depth': 6, 'iterations': 1000, 'l2_leaf_reg': 3, 'learning_rate': 0.01, 'subsample': 0.8}\n",
            "Best AUC-ROC Score: 0.9388786247947222\n"
          ]
        }
      ]
    },
    {
      "cell_type": "code",
      "source": [
        "# Get the Best Model\n",
        "best_catboost = grid_search.best_estimator_\n",
        "\n",
        "# Train and Evaluate\n",
        "best_catboost.fit(X_train, y_train)\n",
        "y_pred = best_catboost.predict(X_test)\n",
        "y_proba = best_catboost.predict_proba(X_test)[:, 1]\n",
        "\n",
        "# Accuracy and Classification Report\n",
        "from sklearn.metrics import accuracy_score, classification_report, roc_auc_score, roc_curve\n",
        "print(\"Final Model Accuracy:\", accuracy_score(y_test, y_pred))\n",
        "print(\"Final Model Classification Report:\\n\", classification_report(y_test, y_pred))\n",
        "\n",
        "# AUC-ROC\n",
        "final_auc = roc_auc_score(y_test, y_proba)\n",
        "print(\"Final Model AUC-ROC:\", final_auc)\n",
        "\n",
        "# Plot ROC Curve\n",
        "fpr, tpr, thresholds = roc_curve(y_test, y_proba)\n",
        "plt.plot(fpr, tpr, label=f'CatBoost (AUC = {final_auc:.2f})')\n",
        "plt.plot([0, 1], [0, 1], linestyle='--')\n",
        "plt.xlabel('False Positive Rate')\n",
        "plt.ylabel('True Positive Rate')\n",
        "plt.title('ROC Curve')\n",
        "plt.legend()\n",
        "plt.show()\n"
      ],
      "metadata": {
        "id": "r6NbGee2bmxb",
        "colab": {
          "base_uri": "https://localhost:8080/",
          "height": 689
        },
        "outputId": "f8d613e6-ac1d-4208-87c1-c907ae5d4af1"
      },
      "execution_count": null,
      "outputs": [
        {
          "output_type": "stream",
          "name": "stdout",
          "text": [
            "Final Model Accuracy: 0.8599033816425121\n",
            "Final Model Classification Report:\n",
            "               precision    recall  f1-score   support\n",
            "\n",
            "           0       0.85      0.87      0.86      1021\n",
            "           1       0.87      0.85      0.86      1049\n",
            "\n",
            "    accuracy                           0.86      2070\n",
            "   macro avg       0.86      0.86      0.86      2070\n",
            "weighted avg       0.86      0.86      0.86      2070\n",
            "\n",
            "Final Model AUC-ROC: 0.9416215620678805\n"
          ]
        },
        {
          "output_type": "display_data",
          "data": {
            "text/plain": [
              "<Figure size 640x480 with 1 Axes>"
            ],
            "image/png": "[encoded data removed]"
          },
          "metadata": {}
        }
      ]
    },
    {
      "cell_type": "markdown",
      "source": [
        "## **Summary of Results for Telco Churn Prediction**\n",
        "\n",
        "1. **Initial Model Performance:**\n",
        "\n",
        "* LGBMClassifier: Accuracy = 0.8623, AUC-ROC = 0.9408\n",
        "* CatBoostClassifier: Accuracy = 0.8613, AUC-ROC = 0.9417\n",
        "\n",
        "Both models performed well with high AUC-ROC values, indicating excellent classification capability.\n",
        "\n",
        "2. **Hyperparameter Tuning:**\n",
        "  \n",
        "*  LGBMClassifier:\n",
        "  * Final Accuracy = 0.8604, Final AUC-ROC = 0.9409\n",
        "  * The model maintained high accuracy and AUC-ROC with improved stability.\n",
        "* CatBoostClassifier:\n",
        "  * Final Accuracy = 0.8599, Final AUC-ROC = 0.9416\n",
        "  * Although slightly lower in accuracy, the AUC-ROC remained high, ensuring robust classification.\n",
        "\n",
        "3. **Model Selection:**\n",
        "\n",
        "* Both models showed competitive performance, but CatBoost had a marginally higher AUC-ROC.\n",
        "* CatBoostClassifier was chosen as the final model for its balanced precision and recall scores, reflecting better generalization."
      ],
      "metadata": {
        "id": "VhKxwx4a3gxL"
      }
    },
    {
      "cell_type": "code",
      "source": [],
      "metadata": {
        "id": "_cVuIgbrbtiE"
      },
      "execution_count": null,
      "outputs": []
    }
  ]
}